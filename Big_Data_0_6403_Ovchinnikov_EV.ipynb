{
  "nbformat": 4,
  "nbformat_minor": 0,
  "metadata": {
    "colab": {
      "provenance": [],
      "include_colab_link": true
    },
    "kernelspec": {
      "name": "python3",
      "display_name": "Python 3"
    }
  },
  "cells": [
    {
      "cell_type": "markdown",
      "metadata": {
        "id": "view-in-github",
        "colab_type": "text"
      },
      "source": [
        "<a href=\"https://colab.research.google.com/github/Sireax/Labs-Big-Data/blob/main/Big_Data_0_6403_Ovchinnikov_EV.ipynb\" target=\"_parent\"><img src=\"https://colab.research.google.com/assets/colab-badge.svg\" alt=\"Open In Colab\"/></a>"
      ]
    },
    {
      "cell_type": "markdown",
      "metadata": {
        "id": "82OvPKEiEqjc"
      },
      "source": [
        "# Введение в MapReduce модель на Python\n"
      ]
    },
    {
      "cell_type": "code",
      "metadata": {
        "id": "JQ2cvXLjICmI"
      },
      "source": [
        "from typing import NamedTuple # requires python 3.6+\n",
        "from typing import Iterator"
      ],
      "execution_count": 1,
      "outputs": []
    },
    {
      "cell_type": "code",
      "metadata": {
        "id": "yjPHumVwEyEg"
      },
      "source": [
        "def MAP(_, row:NamedTuple):\n",
        "  if (row.gender == 'female'):\n",
        "    yield (row.age, row)\n",
        "\n",
        "def REDUCE(age:str, rows:Iterator[NamedTuple]):\n",
        "  sum = 0\n",
        "  count = 0\n",
        "  for row in rows:\n",
        "    sum += row.social_contacts\n",
        "    count += 1\n",
        "  if (count > 0):\n",
        "    yield (age, sum/count)\n",
        "  else:\n",
        "    yield (age, 0)"
      ],
      "execution_count": 2,
      "outputs": []
    },
    {
      "cell_type": "markdown",
      "metadata": {
        "id": "vBKMgpG_ilaZ"
      },
      "source": [
        "Модель элемента данных"
      ]
    },
    {
      "cell_type": "code",
      "metadata": {
        "id": "Rv-XIjhTJPx3"
      },
      "source": [
        "class User(NamedTuple):\n",
        "  id: int\n",
        "  age: str\n",
        "  social_contacts: int\n",
        "  gender: str"
      ],
      "execution_count": 3,
      "outputs": []
    },
    {
      "cell_type": "code",
      "metadata": {
        "id": "5KV0Ze2vQgu5"
      },
      "source": [
        "input_collection = [\n",
        "    User(id=0, age=55, gender='male', social_contacts=20),\n",
        "    User(id=1, age=25, gender='female', social_contacts=240),\n",
        "    User(id=2, age=25, gender='female', social_contacts=500),\n",
        "    User(id=3, age=33, gender='female', social_contacts=800)\n",
        "]"
      ],
      "execution_count": 4,
      "outputs": []
    },
    {
      "cell_type": "markdown",
      "metadata": {
        "id": "YFeqzyZxZIFZ"
      },
      "source": [
        "Функция RECORDREADER моделирует чтение элементов с диска или по сети."
      ]
    },
    {
      "cell_type": "code",
      "metadata": {
        "id": "S5HR4E_GQoMJ"
      },
      "source": [
        "def RECORDREADER():\n",
        "  return [(u.id, u) for u in input_collection]"
      ],
      "execution_count": 5,
      "outputs": []
    },
    {
      "cell_type": "code",
      "metadata": {
        "id": "NeEoWla-ROUy",
        "colab": {
          "base_uri": "https://localhost:8080/"
        },
        "outputId": "2207e343-96e3-4434-82b9-76a08c118cd9"
      },
      "source": [
        "list(RECORDREADER())"
      ],
      "execution_count": 6,
      "outputs": [
        {
          "output_type": "execute_result",
          "data": {
            "text/plain": [
              "[(0, User(id=0, age=55, social_contacts=20, gender='male')),\n",
              " (1, User(id=1, age=25, social_contacts=240, gender='female')),\n",
              " (2, User(id=2, age=25, social_contacts=500, gender='female')),\n",
              " (3, User(id=3, age=33, social_contacts=800, gender='female'))]"
            ]
          },
          "metadata": {},
          "execution_count": 6
        }
      ]
    },
    {
      "cell_type": "code",
      "metadata": {
        "id": "YB8orgPSZs8M"
      },
      "source": [
        "def flatten(nested_iterable):\n",
        "  for iterable in nested_iterable:\n",
        "    for element in iterable:\n",
        "      yield element"
      ],
      "execution_count": 7,
      "outputs": []
    },
    {
      "cell_type": "code",
      "metadata": {
        "id": "74oyvDLaRmd5",
        "colab": {
          "base_uri": "https://localhost:8080/"
        },
        "outputId": "7721fd40-68df-441a-dd0e-d332a75a2e74"
      },
      "source": [
        "map_output = flatten(map(lambda x: MAP(*x), RECORDREADER()))\n",
        "map_output = list(map_output) # materialize\n",
        "map_output"
      ],
      "execution_count": 8,
      "outputs": [
        {
          "output_type": "execute_result",
          "data": {
            "text/plain": [
              "[(25, User(id=1, age=25, social_contacts=240, gender='female')),\n",
              " (25, User(id=2, age=25, social_contacts=500, gender='female')),\n",
              " (33, User(id=3, age=33, social_contacts=800, gender='female'))]"
            ]
          },
          "metadata": {},
          "execution_count": 8
        }
      ]
    },
    {
      "cell_type": "code",
      "metadata": {
        "id": "8ncYDJ3-VzDn"
      },
      "source": [
        "def groupbykey(iterable):\n",
        "  t = {}\n",
        "  for (k2, v2) in iterable:\n",
        "    t[k2] = t.get(k2, []) + [v2]\n",
        "  return t.items()"
      ],
      "execution_count": 9,
      "outputs": []
    },
    {
      "cell_type": "code",
      "metadata": {
        "id": "cKzY_6COWOA2",
        "colab": {
          "base_uri": "https://localhost:8080/"
        },
        "outputId": "33a365b0-15ba-4898-c9cc-c6ca8d224b9c"
      },
      "source": [
        "shuffle_output = groupbykey(map_output)\n",
        "shuffle_output = list(shuffle_output)\n",
        "shuffle_output"
      ],
      "execution_count": 10,
      "outputs": [
        {
          "output_type": "execute_result",
          "data": {
            "text/plain": [
              "[(25,\n",
              "  [User(id=1, age=25, social_contacts=240, gender='female'),\n",
              "   User(id=2, age=25, social_contacts=500, gender='female')]),\n",
              " (33, [User(id=3, age=33, social_contacts=800, gender='female')])]"
            ]
          },
          "metadata": {},
          "execution_count": 10
        }
      ]
    },
    {
      "cell_type": "code",
      "metadata": {
        "id": "NlA7lkDDYL0t",
        "colab": {
          "base_uri": "https://localhost:8080/"
        },
        "outputId": "50c0093c-74a0-43d5-fab8-68bdc8a97960"
      },
      "source": [
        "reduce_output = flatten(map(lambda x: REDUCE(*x), shuffle_output))\n",
        "reduce_output = list(reduce_output)\n",
        "reduce_output"
      ],
      "execution_count": 11,
      "outputs": [
        {
          "output_type": "execute_result",
          "data": {
            "text/plain": [
              "[(25, 370.0), (33, 800.0)]"
            ]
          },
          "metadata": {},
          "execution_count": 11
        }
      ]
    },
    {
      "cell_type": "markdown",
      "metadata": {
        "id": "xf6qhHEtd6bI"
      },
      "source": [
        "Все действия одним конвейером!"
      ]
    },
    {
      "cell_type": "code",
      "metadata": {
        "id": "dZaQGYxCdpw5",
        "colab": {
          "base_uri": "https://localhost:8080/"
        },
        "outputId": "e7df6029-b5a9-445f-aa4a-aa538701207e"
      },
      "source": [
        "list(flatten(map(lambda x: REDUCE(*x), groupbykey(flatten(map(lambda x: MAP(*x), RECORDREADER()))))))"
      ],
      "execution_count": 12,
      "outputs": [
        {
          "output_type": "execute_result",
          "data": {
            "text/plain": [
              "[(25, 370.0), (33, 800.0)]"
            ]
          },
          "metadata": {},
          "execution_count": 12
        }
      ]
    },
    {
      "cell_type": "markdown",
      "metadata": {
        "id": "Vq3EWRIpwSiJ"
      },
      "source": [
        "# **MapReduce**\n",
        "Выделим общую для всех пользователей часть системы в отдельную функцию высшего порядка. Это наиболее простая модель MapReduce, без учёта распределённого хранения данных.\n",
        "\n",
        "Пользователь для решения своей задачи реализует RECORDREADER, MAP, REDUCE."
      ]
    },
    {
      "cell_type": "code",
      "metadata": {
        "id": "V1PZeQMwwVjc"
      },
      "source": [
        "def flatten(nested_iterable):\n",
        "  for iterable in nested_iterable:\n",
        "    for element in iterable:\n",
        "      yield element\n",
        "\n",
        "def groupbykey(iterable):\n",
        "  t = {}\n",
        "  for (k2, v2) in iterable:\n",
        "    t[k2] = t.get(k2, []) + [v2]\n",
        "  return t.items()\n",
        "\n",
        "def MapReduce(RECORDREADER, MAP, REDUCE):\n",
        "  return flatten(map(lambda x: REDUCE(*x), groupbykey(flatten(map(lambda x: MAP(*x), RECORDREADER())))))"
      ],
      "execution_count": 13,
      "outputs": []
    },
    {
      "cell_type": "markdown",
      "metadata": {
        "id": "iFIVrimep678"
      },
      "source": [
        "## Спецификация MapReduce\n",
        "\n",
        "\n",
        "\n",
        "```\n",
        "f (k1, v1) -> (k2,v2)*\n",
        "g (k2, v2*) -> (k3,v3)*\n",
        "\n",
        "mapreduce ((k1,v1)*) -> (k3,v3)*\n",
        "groupby ((k2,v2)*) -> (k2,v2*)*\n",
        "flatten (e2**) -> e2*\n",
        "\n",
        "mapreduce .map(f).flatten.groupby(k2).map(g).flatten\n",
        "```\n",
        "\n",
        "\n"
      ]
    },
    {
      "cell_type": "markdown",
      "metadata": {
        "id": "QtTFyqke3KGe"
      },
      "source": [
        "# Примеры"
      ]
    },
    {
      "cell_type": "markdown",
      "metadata": {
        "id": "BNhh5763w5Vn"
      },
      "source": [
        "## SQL"
      ]
    },
    {
      "cell_type": "code",
      "metadata": {
        "id": "QkyurnvGxBGk",
        "colab": {
          "base_uri": "https://localhost:8080/"
        },
        "outputId": "851bd521-508c-4d80-84e5-45ade6459981"
      },
      "source": [
        "from typing import NamedTuple # requires python 3.6+\n",
        "from typing import Iterator\n",
        "\n",
        "class User(NamedTuple):\n",
        "  id: int\n",
        "  age: str\n",
        "  social_contacts: int\n",
        "  gender: str\n",
        "\n",
        "input_collection = [\n",
        "    User(id=0, age=55, gender='male', social_contacts=20),\n",
        "    User(id=1, age=25, gender='female', social_contacts=240),\n",
        "    User(id=2, age=25, gender='female', social_contacts=500),\n",
        "    User(id=3, age=33, gender='female', social_contacts=800)\n",
        "]\n",
        "\n",
        "def MAP(_, row:NamedTuple):\n",
        "  if (row.gender == 'female'):\n",
        "    yield (row.age, row)\n",
        "\n",
        "def REDUCE(age:str, rows:Iterator[NamedTuple]):\n",
        "  sum = 0\n",
        "  count = 0\n",
        "  for row in rows:\n",
        "    sum += row.social_contacts\n",
        "    count += 1\n",
        "  if (count > 0):\n",
        "    yield (age, sum/count)\n",
        "  else:\n",
        "    yield (age, 0)\n",
        "\n",
        "def RECORDREADER():\n",
        "  return [(u.id, u) for u in input_collection]\n",
        "\n",
        "output = MapReduce(RECORDREADER, MAP, REDUCE)\n",
        "output = list(output)\n",
        "output"
      ],
      "execution_count": 14,
      "outputs": [
        {
          "output_type": "execute_result",
          "data": {
            "text/plain": [
              "[(25, 370.0), (33, 800.0)]"
            ]
          },
          "metadata": {},
          "execution_count": 14
        }
      ]
    },
    {
      "cell_type": "markdown",
      "metadata": {
        "id": "kNKYIeerx0nY"
      },
      "source": [
        "## Matrix-Vector multiplication"
      ]
    },
    {
      "cell_type": "code",
      "metadata": {
        "id": "rwcntRcCyi1V",
        "colab": {
          "base_uri": "https://localhost:8080/"
        },
        "outputId": "62cf21d9-de5e-4e4f-9cb2-db4c3c475430"
      },
      "source": [
        "from typing import Iterator\n",
        "import numpy as np\n",
        "\n",
        "mat = np.ones((5,4))\n",
        "vec = np.random.rand(4) # in-memory vector in all map tasks\n",
        "\n",
        "def MAP(coordinates:(int, int), value:int):\n",
        "  i, j = coordinates\n",
        "  yield (i, value*vec[j])\n",
        "\n",
        "def REDUCE(i:int, products:Iterator[NamedTuple]):\n",
        "  sum = 0\n",
        "  for p in products:\n",
        "    sum += p\n",
        "  yield (i, sum)\n",
        "\n",
        "def RECORDREADER():\n",
        "  for i in range(mat.shape[0]):\n",
        "    for j in range(mat.shape[1]):\n",
        "      yield ((i, j), mat[i,j])\n",
        "\n",
        "output = MapReduce(RECORDREADER, MAP, REDUCE)\n",
        "output = list(output)\n",
        "output"
      ],
      "execution_count": 15,
      "outputs": [
        {
          "output_type": "execute_result",
          "data": {
            "text/plain": [
              "[(0, np.float64(2.405367162143548)),\n",
              " (1, np.float64(2.405367162143548)),\n",
              " (2, np.float64(2.405367162143548)),\n",
              " (3, np.float64(2.405367162143548)),\n",
              " (4, np.float64(2.405367162143548))]"
            ]
          },
          "metadata": {},
          "execution_count": 15
        }
      ]
    },
    {
      "cell_type": "markdown",
      "metadata": {
        "id": "ruZREYdi2o4O"
      },
      "source": [
        "## Inverted index"
      ]
    },
    {
      "cell_type": "code",
      "metadata": {
        "id": "vt9H9Alf3TYv",
        "colab": {
          "base_uri": "https://localhost:8080/"
        },
        "outputId": "0f28e8fc-3432-46be-8a68-3059f9602c88"
      },
      "source": [
        "from typing import Iterator\n",
        "\n",
        "d1 = \"it is what it is\"\n",
        "d2 = \"what is it\"\n",
        "d3 = \"it is a banana\"\n",
        "documents = [d1, d2, d3]\n",
        "\n",
        "def RECORDREADER():\n",
        "  for (docid, document) in enumerate(documents):\n",
        "    yield (\"{}\".format(docid), document)\n",
        "\n",
        "def MAP(docId:str, body:str):\n",
        "  for word in set(body.split(' ')):\n",
        "    yield (word, docId)\n",
        "\n",
        "def REDUCE(word:str, docIds:Iterator[str]):\n",
        "  yield (word, sorted(docIds))\n",
        "\n",
        "output = MapReduce(RECORDREADER, MAP, REDUCE)\n",
        "output = list(output)\n",
        "output"
      ],
      "execution_count": 16,
      "outputs": [
        {
          "output_type": "execute_result",
          "data": {
            "text/plain": [
              "[('is', ['0', '1', '2']),\n",
              " ('it', ['0', '1', '2']),\n",
              " ('what', ['0', '1']),\n",
              " ('banana', ['2']),\n",
              " ('a', ['2'])]"
            ]
          },
          "metadata": {},
          "execution_count": 16
        }
      ]
    },
    {
      "cell_type": "markdown",
      "metadata": {
        "id": "R7az-6DA6qr2"
      },
      "source": [
        "## WordCount"
      ]
    },
    {
      "cell_type": "code",
      "metadata": {
        "id": "dN-nbtgG6uYG",
        "colab": {
          "base_uri": "https://localhost:8080/"
        },
        "outputId": "0bea288d-e56c-43ed-b7b3-af8e23ee516c"
      },
      "source": [
        "from typing import Iterator\n",
        "\n",
        "d1 = \"\"\"\n",
        "it is what it is\n",
        "it is what it is\n",
        "it is what it is\"\"\"\n",
        "d2 = \"\"\"\n",
        "what is it\n",
        "what is it\"\"\"\n",
        "d3 = \"\"\"\n",
        "it is a banana\"\"\"\n",
        "documents = [d1, d2, d3]\n",
        "\n",
        "def RECORDREADER():\n",
        "  for (docid, document) in enumerate(documents):\n",
        "    for (lineid, line) in enumerate(document.split('\\n')):\n",
        "      yield (\"{}:{}\".format(docid,lineid), line)\n",
        "\n",
        "def MAP(docId:str, line:str):\n",
        "  for word in line.split(\" \"):\n",
        "    yield (word, 1)\n",
        "\n",
        "def REDUCE(word:str, counts:Iterator[int]):\n",
        "  sum = 0\n",
        "  for c in counts:\n",
        "    sum += c\n",
        "  yield (word, sum)\n",
        "\n",
        "output = MapReduce(RECORDREADER, MAP, REDUCE)\n",
        "output = list(output)\n",
        "output"
      ],
      "execution_count": 17,
      "outputs": [
        {
          "output_type": "execute_result",
          "data": {
            "text/plain": [
              "[('', 3), ('it', 9), ('is', 9), ('what', 5), ('a', 1), ('banana', 1)]"
            ]
          },
          "metadata": {},
          "execution_count": 17
        }
      ]
    },
    {
      "cell_type": "markdown",
      "metadata": {
        "id": "h-jRAcYCAkkk"
      },
      "source": [
        "# MapReduce Distributed\n",
        "\n",
        "Добавляется в модель фабрика RECORDREARER-ов --- INPUTFORMAT, функция распределения промежуточных результатов по партициям PARTITIONER, и функция COMBINER для частичной аггрегации промежуточных результатов до распределения по новым партициям."
      ]
    },
    {
      "cell_type": "code",
      "metadata": {
        "id": "nw-b-xJsApgW"
      },
      "source": [
        "def flatten(nested_iterable):\n",
        "  for iterable in nested_iterable:\n",
        "    for element in iterable:\n",
        "      yield element\n",
        "\n",
        "def groupbykey(iterable):\n",
        "  t = {}\n",
        "  for (k2, v2) in iterable:\n",
        "    t[k2] = t.get(k2, []) + [v2]\n",
        "  return t.items()\n",
        "\n",
        "def groupbykey_distributed(map_partitions, PARTITIONER):\n",
        "  global reducers\n",
        "  partitions = [dict() for _ in range(reducers)]\n",
        "  for map_partition in map_partitions:\n",
        "    for (k2, v2) in map_partition:\n",
        "      p = partitions[PARTITIONER(k2)]\n",
        "      p[k2] = p.get(k2, []) + [v2]\n",
        "  return [(partition_id, sorted(partition.items(), key=lambda x: x[0])) for (partition_id, partition) in enumerate(partitions)]\n",
        "\n",
        "def PARTITIONER(obj):\n",
        "  global reducers\n",
        "  return hash(obj) % reducers\n",
        "\n",
        "def MapReduceDistributed(INPUTFORMAT, MAP, REDUCE, PARTITIONER=PARTITIONER, COMBINER=None):\n",
        "  map_partitions = map(lambda record_reader: flatten(map(lambda k1v1: MAP(*k1v1), record_reader)), INPUTFORMAT())\n",
        "  if COMBINER != None:\n",
        "    map_partitions = map(lambda map_partition: flatten(map(lambda k2v2: COMBINER(*k2v2), groupbykey(map_partition))), map_partitions)\n",
        "  reduce_partitions = groupbykey_distributed(map_partitions, PARTITIONER) # shuffle\n",
        "  reduce_outputs = map(lambda reduce_partition: (reduce_partition[0], flatten(map(lambda reduce_input_group: REDUCE(*reduce_input_group), reduce_partition[1]))), reduce_partitions)\n",
        "\n",
        "  print(\"{} key-value pairs were sent over a network.\".format(sum([len(vs) for (k,vs) in flatten([partition for (partition_id, partition) in reduce_partitions])])))\n",
        "  return reduce_outputs"
      ],
      "execution_count": 18,
      "outputs": []
    },
    {
      "cell_type": "markdown",
      "metadata": {
        "id": "kxirlf3XqZxY"
      },
      "source": [
        "## Спецификация MapReduce Distributed\n",
        "\n",
        "\n",
        "```\n",
        "f (k1, v1) -> (k2,v2)*\n",
        "g (k2, v2*) -> (k3,v3)*\n",
        "\n",
        "e1 (k1, v1)\n",
        "e2 (k2, v2)\n",
        "partition1 (k2, v2)*\n",
        "partition2 (k2, v2*)*\n",
        "\n",
        "flatmap (e1->e2*, e1*) -> partition1*\n",
        "groupby (partition1*) -> partition2*\n",
        "\n",
        "mapreduce ((k1,v1)*) -> (k3,v3)*\n",
        "mapreduce .flatmap(f).groupby(k2).flatmap(g)\n",
        "```\n",
        "\n"
      ]
    },
    {
      "cell_type": "markdown",
      "metadata": {
        "id": "CWYw_CpbbY3C"
      },
      "source": [
        "## WordCount"
      ]
    },
    {
      "cell_type": "code",
      "metadata": {
        "id": "uR_zfGFkMZlp",
        "colab": {
          "base_uri": "https://localhost:8080/"
        },
        "outputId": "050fdde1-d786-420e-8b96-9b231ce216d0"
      },
      "source": [
        "from typing import Iterator\n",
        "import numpy as np\n",
        "\n",
        "d1 = \"\"\"\n",
        "it is what it is\n",
        "it is what it is\n",
        "it is what it is\"\"\"\n",
        "d2 = \"\"\"\n",
        "what is it\n",
        "what is it\"\"\"\n",
        "d3 = \"\"\"\n",
        "it is a banana\"\"\"\n",
        "documents = [d1, d2, d3, d1, d2, d3]\n",
        "\n",
        "maps = 3\n",
        "reducers = 2\n",
        "\n",
        "def INPUTFORMAT():\n",
        "  global maps\n",
        "\n",
        "  def RECORDREADER(split):\n",
        "    for (docid, document) in enumerate(split):\n",
        "      for (lineid, line) in enumerate(document.split('\\n')):\n",
        "        yield (\"{}:{}\".format(docid,lineid), line)\n",
        "\n",
        "  split_size =  int(np.ceil(len(documents)/maps))\n",
        "  for i in range(0, len(documents), split_size):\n",
        "    yield RECORDREADER(documents[i:i+split_size])\n",
        "\n",
        "def MAP(docId:str, line:str):\n",
        "  for word in line.split(\" \"):\n",
        "    yield (word, 1)\n",
        "\n",
        "def REDUCE(word:str, counts:Iterator[int]):\n",
        "  sum = 0\n",
        "  for c in counts:\n",
        "    sum += c\n",
        "  yield (word, sum)\n",
        "\n",
        "# try to set COMBINER=REDUCER and look at the number of values sent over the network\n",
        "partitioned_output = MapReduceDistributed(INPUTFORMAT, MAP, REDUCE, COMBINER=None)\n",
        "partitioned_output = [(partition_id, list(partition)) for (partition_id, partition) in partitioned_output]\n",
        "partitioned_output"
      ],
      "execution_count": 19,
      "outputs": [
        {
          "output_type": "stream",
          "name": "stdout",
          "text": [
            "56 key-value pairs were sent over a network.\n"
          ]
        },
        {
          "output_type": "execute_result",
          "data": {
            "text/plain": [
              "[(0, [('', 6), ('banana', 2), ('is', 18), ('what', 10)]),\n",
              " (1, [('a', 2), ('it', 18)])]"
            ]
          },
          "metadata": {},
          "execution_count": 19
        }
      ]
    },
    {
      "cell_type": "markdown",
      "metadata": {
        "id": "gCJGx8IQ87xS"
      },
      "source": [
        "## TeraSort"
      ]
    },
    {
      "cell_type": "code",
      "metadata": {
        "id": "P2v8v1v_8_YR",
        "colab": {
          "base_uri": "https://localhost:8080/"
        },
        "outputId": "79b07e31-66b1-4cfc-b1fe-2ed734dd8cd0"
      },
      "source": [
        "import numpy as np\n",
        "\n",
        "input_values = np.random.rand(30)\n",
        "maps = 3\n",
        "reducers = 2\n",
        "min_value = 0.0\n",
        "max_value = 1.0\n",
        "\n",
        "def INPUTFORMAT():\n",
        "  global maps\n",
        "\n",
        "  def RECORDREADER(split):\n",
        "    for value in split:\n",
        "        yield (value, None)\n",
        "\n",
        "  split_size =  int(np.ceil(len(input_values)/maps))\n",
        "  for i in range(0, len(input_values), split_size):\n",
        "    yield RECORDREADER(input_values[i:i+split_size])\n",
        "\n",
        "def MAP(value:int, _):\n",
        "  yield (value, None)\n",
        "\n",
        "def PARTITIONER(key):\n",
        "  global reducers\n",
        "  global max_value\n",
        "  global min_value\n",
        "  bucket_size = (max_value-min_value)/reducers\n",
        "  bucket_id = 0\n",
        "  while((key>(bucket_id+1)*bucket_size) and ((bucket_id+1)*bucket_size<max_value)):\n",
        "    bucket_id += 1\n",
        "  return bucket_id\n",
        "\n",
        "def REDUCE(value:int, _):\n",
        "  yield (None,value)\n",
        "\n",
        "partitioned_output = MapReduceDistributed(INPUTFORMAT, MAP, REDUCE, COMBINER=None, PARTITIONER=PARTITIONER)\n",
        "partitioned_output = [(partition_id, list(partition)) for (partition_id, partition) in partitioned_output]\n",
        "partitioned_output"
      ],
      "execution_count": 20,
      "outputs": [
        {
          "output_type": "stream",
          "name": "stdout",
          "text": [
            "30 key-value pairs were sent over a network.\n"
          ]
        },
        {
          "output_type": "execute_result",
          "data": {
            "text/plain": [
              "[(0,\n",
              "  [(None, np.float64(0.08772826291824609)),\n",
              "   (None, np.float64(0.10025743474100002)),\n",
              "   (None, np.float64(0.10580549992725174)),\n",
              "   (None, np.float64(0.13235851481366756)),\n",
              "   (None, np.float64(0.1333978779781826)),\n",
              "   (None, np.float64(0.1439777169483729)),\n",
              "   (None, np.float64(0.21889562475886448)),\n",
              "   (None, np.float64(0.23025065144020251)),\n",
              "   (None, np.float64(0.25172574551999594)),\n",
              "   (None, np.float64(0.2517957894608325)),\n",
              "   (None, np.float64(0.2752921535197522)),\n",
              "   (None, np.float64(0.3387875836298254)),\n",
              "   (None, np.float64(0.3974233638205673)),\n",
              "   (None, np.float64(0.4860653093925582)),\n",
              "   (None, np.float64(0.4861030339489898))]),\n",
              " (1,\n",
              "  [(None, np.float64(0.5370555828277126)),\n",
              "   (None, np.float64(0.5538537509963262)),\n",
              "   (None, np.float64(0.5789429436357445)),\n",
              "   (None, np.float64(0.5920061281363996)),\n",
              "   (None, np.float64(0.6047610755301843)),\n",
              "   (None, np.float64(0.6630673894362309)),\n",
              "   (None, np.float64(0.667369152572531)),\n",
              "   (None, np.float64(0.7079064536187719)),\n",
              "   (None, np.float64(0.7485969603775623)),\n",
              "   (None, np.float64(0.7692644205742665)),\n",
              "   (None, np.float64(0.8101693063911601)),\n",
              "   (None, np.float64(0.8946198287812389)),\n",
              "   (None, np.float64(0.9125700394352787)),\n",
              "   (None, np.float64(0.970709059720493)),\n",
              "   (None, np.float64(0.9713772135611299))])]"
            ]
          },
          "metadata": {},
          "execution_count": 20
        }
      ]
    },
    {
      "cell_type": "code",
      "metadata": {
        "id": "MQhoJaVZI93G"
      },
      "source": [],
      "execution_count": 20,
      "outputs": []
    },
    {
      "cell_type": "markdown",
      "metadata": {
        "id": "Iy65YJTH99iT"
      },
      "source": [
        "# Упражнения\n",
        "Упражнения взяты из Rajaraman A., Ullman J. D. Mining of massive datasets. – Cambridge University Press, 2011.\n",
        "\n",
        "\n",
        "Для выполнения заданий переопределите функции RECORDREADER, MAP, REDUCE. Для модели распределённой системы может потребоваться переопределение функций PARTITION и COMBINER."
      ]
    },
    {
      "cell_type": "markdown",
      "metadata": {
        "id": "cfvAeZm3S8S8"
      },
      "source": [
        "### Максимальное значение ряда\n",
        "\n",
        "Разработайте MapReduce алгоритм, который находит максимальное число входного списка чисел."
      ]
    },
    {
      "cell_type": "code",
      "metadata": {
        "id": "3GRA1JR-Tkbg",
        "outputId": "a57acab8-0ff2-4364-9204-ae4770fddd4e",
        "colab": {
          "base_uri": "https://localhost:8080/"
        }
      },
      "source": [
        "import numpy as np\n",
        "\n",
        "# Генерируем 30 случайных чисел от 0 до 1\n",
        "values = np.random.random(30)\n",
        "print(\"Исходный список чисел:\", values)\n",
        "\n",
        "# Функция, которая передаёт числа в виде (ключ, значение)\n",
        "def RECORDREADER():\n",
        "    for num in values:\n",
        "        yield (None, num)  # Ключ остаётся фиксированным для группировки\n",
        "\n",
        "# Функция MAP\n",
        "def MAP(_, num):\n",
        "    \"\"\"Каждое число маппится на один ключ (None).\"\"\"\n",
        "    yield (None, num)\n",
        "\n",
        "# Функция REDUCE\n",
        "def REDUCE(_, num_list):\n",
        "    \"\"\"Определяем максимальное значение в списке.\"\"\"\n",
        "    yield (None, max(num_list))\n",
        "\n",
        "# Выполнение MapReduce\n",
        "result = list(MapReduce(RECORDREADER, MAP, REDUCE))\n",
        "\n",
        "# Выводим результат\n",
        "print(\"Максимальное значение:\", result[0][1])"
      ],
      "execution_count": 21,
      "outputs": [
        {
          "output_type": "stream",
          "name": "stdout",
          "text": [
            "Исходный список чисел: [0.73811005 0.89205165 0.41080576 0.48570791 0.08330325 0.16927768\n",
            " 0.46645276 0.88120594 0.82323808 0.36422204 0.92736092 0.0782692\n",
            " 0.7017772  0.69402596 0.48755851 0.81331281 0.66403723 0.9157449\n",
            " 0.60963691 0.49901268 0.36217759 0.01007723 0.17889559 0.96656489\n",
            " 0.58745275 0.83070625 0.97843825 0.32155189 0.23920859 0.71914913]\n",
            "Максимальное значение: 0.9784382514968788\n"
          ]
        }
      ]
    },
    {
      "cell_type": "markdown",
      "metadata": {
        "id": "k86bXnqZTk-U"
      },
      "source": [
        "### Арифметическое среднее\n",
        "\n",
        "Разработайте MapReduce алгоритм, который находит арифметическое среднее.\n",
        "\n",
        "$$\\overline{X} = \\frac{1}{n}\\sum_{i=0}^{n} x_i$$\n"
      ]
    },
    {
      "cell_type": "code",
      "metadata": {
        "id": "MPoY5pkfUNZf",
        "outputId": "7c82d74b-90af-47d6-f983-997d54832d1a",
        "colab": {
          "base_uri": "https://localhost:8080/"
        }
      },
      "source": [
        "\n",
        "import numpy as np\n",
        "\n",
        "# Генерируем 100 случайных чисел от 0 до 1\n",
        "input_values = np.random.rand(100)\n",
        "print(\"Исходный список чисел:\", input_values)\n",
        "\n",
        "# Функция, которая передаёт числа в виде (ключ, значение)\n",
        "def RECORDREADER():\n",
        "    for value in input_values:\n",
        "        yield (None, value)  # Ключ фиксированный, чтобы все значения группировались вместе\n",
        "\n",
        "# Функция MAP\n",
        "def MAP(_, value):\n",
        "    \"\"\"Каждое число маппится на один ключ (None).\"\"\"\n",
        "    yield (None, value)\n",
        "\n",
        "# Функция REDUCE\n",
        "def REDUCE(_, values):\n",
        "    \"\"\"Вычисляет среднее значение из списка чисел.\"\"\"\n",
        "    yield (None, sum(values) / len(values))\n",
        "\n",
        "# Выполнение MapReduce\n",
        "average_value_output = list(MapReduce(RECORDREADER, MAP, REDUCE))\n",
        "\n",
        "# Выводим результат\n",
        "print(\"Среднее значение:\", average_value_output[0][1])"
      ],
      "execution_count": 22,
      "outputs": [
        {
          "output_type": "stream",
          "name": "stdout",
          "text": [
            "Исходный список чисел: [0.54219828 0.98746041 0.8763868  0.69613902 0.19025442 0.25345013\n",
            " 0.26545207 0.87686816 0.91753134 0.96843392 0.52190511 0.00233833\n",
            " 0.78924324 0.77873902 0.98966367 0.84059349 0.24268863 0.59177776\n",
            " 0.61536709 0.58656824 0.55141323 0.19626105 0.6452612  0.42014308\n",
            " 0.65526261 0.27956994 0.72208141 0.81839216 0.75779747 0.41067085\n",
            " 0.41171752 0.41523909 0.94614438 0.57855634 0.11261583 0.39739123\n",
            " 0.15447323 0.56812083 0.6909885  0.87375165 0.41319576 0.11055627\n",
            " 0.25656933 0.98259073 0.04748203 0.99302533 0.84519748 0.76318072\n",
            " 0.545285   0.1639286  0.6199002  0.42328495 0.26962403 0.94615613\n",
            " 0.26935381 0.24845371 0.75095838 0.17072125 0.54500726 0.56700843\n",
            " 0.85654105 0.59870385 0.93195343 0.0243046  0.76447796 0.28389097\n",
            " 0.51344235 0.60399681 0.60300132 0.92150814 0.89349561 0.0086524\n",
            " 0.1622584  0.39737841 0.5066416  0.45370317 0.72518368 0.45918403\n",
            " 0.15399598 0.88095063 0.97789583 0.61916772 0.40195449 0.21495048\n",
            " 0.17746732 0.67059311 0.83826995 0.35623795 0.16516095 0.84564707\n",
            " 0.95742593 0.81243336 0.51895791 0.17735263 0.70129499 0.64431955\n",
            " 0.80893458 0.22358274 0.27377781 0.13126033]\n",
            "Среднее значение: 0.5433033922350308\n"
          ]
        }
      ]
    },
    {
      "cell_type": "markdown",
      "metadata": {
        "id": "xanzszhsIlLe"
      },
      "source": [
        "### GroupByKey на основе сортировки\n",
        "\n",
        "Реализуйте groupByKey на основе сортировки, проверьте его работу на примерах"
      ]
    },
    {
      "cell_type": "code",
      "metadata": {
        "id": "hQPn3USsIkEC",
        "outputId": "d5a6d724-a356-4962-f9be-2dff8f2def43",
        "colab": {
          "base_uri": "https://localhost:8080/"
        }
      },
      "source": [
        "def group_by_key_sorted(data):\n",
        "    \"\"\"Группирует пары (ключ, значение) по ключу, используя сортировку.\"\"\"\n",
        "    sorted_data = sorted(data, key=lambda pair: pair[0])  # Сортируем по ключу\n",
        "    grouped_result = []\n",
        "\n",
        "    active_key, value_group = sorted_data[0][0], []  # Первый ключ\n",
        "    for k, v in sorted_data:\n",
        "        if k == active_key:\n",
        "            value_group.append(v)  # Добавляем значение в текущую группу\n",
        "        else:\n",
        "            grouped_result.append((active_key, value_group))  # Сохраняем старую группу\n",
        "            active_key, value_group = k, [v]  # Начинаем новую группу\n",
        "\n",
        "    grouped_result.append((active_key, value_group))  # Добавляем последнюю группу\n",
        "    return grouped_result\n",
        "\n",
        "# Пример работы\n",
        "sample_data = [\n",
        "    (\"a\", 1), (\"b\", 2), (\"a\", 3), (\"b\", 4), (\"c\", 5), (\"a\", 6)\n",
        "]\n",
        "\n",
        "grouped_output = group_by_key_sorted(sample_data)\n",
        "print(grouped_output)\n"
      ],
      "execution_count": 23,
      "outputs": [
        {
          "output_type": "stream",
          "name": "stdout",
          "text": [
            "[('a', [1, 3, 6]), ('b', [2, 4]), ('c', [5])]\n"
          ]
        }
      ]
    },
    {
      "cell_type": "markdown",
      "metadata": {
        "id": "5SgEjCZyGnu6"
      },
      "source": [
        "### Drop duplicates (set construction, unique elements, distinct)\n",
        "\n",
        "Реализуйте распределённую операцию исключения дубликатов"
      ]
    },
    {
      "cell_type": "code",
      "metadata": {
        "id": "okjbyApjGhMt",
        "outputId": "fa952fa4-a650-45ad-b792-2695afe255f5",
        "colab": {
          "base_uri": "https://localhost:8080/"
        }
      },
      "source": [
        "from itertools import chain\n",
        "\n",
        "reducers = 2  # Количество редьюсеров\n",
        "\n",
        "def INPUTFORMAT():\n",
        "    global maps\n",
        "    data_entries = [\"apple\", \"banana\", \"apple\", \"orange\", \"banana\", \"grape\", \"grape\", \"apple\"]\n",
        "\n",
        "    def RECORDREADER(chunk):\n",
        "        for item in chunk:\n",
        "            yield (item, None)  # Формат (значение, None)\n",
        "\n",
        "    chunk_size = max(1, len(data_entries) // maps)\n",
        "    for i in range(0, len(data_entries), chunk_size):\n",
        "        yield RECORDREADER(data_entries[i:i+chunk_size])\n",
        "\n",
        "def MAP(item, _):\n",
        "    yield (item, None)  # Просто передаем ключ, значение не важно\n",
        "\n",
        "def PARTITIONER(key):\n",
        "    global reducers\n",
        "    return hash(key) % reducers  # Определяет, какой редьюсер обработает ключ\n",
        "\n",
        "def REDUCE(item, _):\n",
        "    yield (item, None)  # Возвращаем только одно значение\n",
        "\n",
        "maps = 2  # Количество мапперов\n",
        "unique_values_output = MapReduceDistributed(INPUTFORMAT, MAP, REDUCE, PARTITIONER)\n",
        "\n",
        "# Преобразуем результат в удобный формат\n",
        "unique_values_output = [word for (_, partition) in unique_values_output for (word, _) in partition]\n",
        "print(\"Unique values:\", unique_values_output)  # Ожидаем ['apple', 'banana', 'orange', 'grape']\n"
      ],
      "execution_count": 24,
      "outputs": [
        {
          "output_type": "stream",
          "name": "stdout",
          "text": [
            "8 key-value pairs were sent over a network.\n",
            "Unique values: ['banana', 'apple', 'grape', 'orange']\n"
          ]
        }
      ]
    },
    {
      "cell_type": "markdown",
      "metadata": {
        "id": "e7sRGoTXuJze"
      },
      "source": [
        "#Операторы реляционной алгебры\n",
        "### Selection (Выборка)\n",
        "\n",
        "**The Map Function**: Для  каждого кортежа $t \\in R$ вычисляется истинность предиката $C$. В случае истины создаётся пара ключ-значение $(t, t)$. В паре ключ и значение одинаковы, равны $t$.\n",
        "\n",
        "**The Reduce Function:** Роль функции Reduce выполняет функция идентичности, которая возвращает то же значение, что получила на вход.\n",
        "\n"
      ]
    },
    {
      "cell_type": "code",
      "metadata": {
        "id": "4nKIKe59uIfc",
        "outputId": "0a92c3db-84b1-40c3-caa0-cc457075c171",
        "colab": {
          "base_uri": "https://localhost:8080/"
        }
      },
      "source": [
        "\n",
        "def C(t):\n",
        "    \"\"\"Проверяет, делится ли сумма элементов кортежа на 2 без остатка.\"\"\"\n",
        "    return (t[0] + t[1]) % 2 == 0\n",
        "\n",
        "def RECORDREADER():\n",
        "    \"\"\"Генерирует кортежи из заданного набора данных.\"\"\"\n",
        "    data_samples = [(0, 2), (6, 1), (5, 5)]\n",
        "    for pair in data_samples:\n",
        "        yield (pair, None)  # Фиксированный ключ для обработки MapReduce\n",
        "\n",
        "def MAP(pair, _):\n",
        "    \"\"\"Применяет предикат к элементу и передает его в Reduce, если условие выполняется.\"\"\"\n",
        "    if C(pair):\n",
        "        yield (pair, pair)  # Ключ и значение равны отобранному элементу\n",
        "\n",
        "def REDUCE(_, selected_values):\n",
        "    \"\"\"Функция идентичности — возвращает полученные значения.\"\"\"\n",
        "    yield from selected_values\n",
        "\n",
        "# Запуск MapReduce\n",
        "filtered_tuples = list(MapReduce(RECORDREADER, MAP, REDUCE))\n",
        "\n",
        "# Вывод результата\n",
        "print(\"Кортежи, удовлетворяющие условию:\", filtered_tuples)\n"
      ],
      "execution_count": 25,
      "outputs": [
        {
          "output_type": "stream",
          "name": "stdout",
          "text": [
            "Кортежи, удовлетворяющие условию: [(0, 2), (5, 5)]\n"
          ]
        }
      ]
    },
    {
      "cell_type": "markdown",
      "metadata": {
        "id": "w27Ca-_Ku85V"
      },
      "source": [
        "### Projection (Проекция)\n",
        "\n",
        "Проекция на множество атрибутов $S$.\n",
        "\n",
        "**The Map Function:** Для каждого кортежа $t \\in R$ создайте кортеж $t′$, исключая  из $t$ те значения, атрибуты которых не принадлежат  $S$. Верните пару $(t′, t′)$.\n",
        "\n",
        "**The Reduce Function:** Для каждого ключа $t′$, созданного любой Map задачей, вы получаете одну или несколько пар $(t′, t′)$. Reduce функция преобразует $(t′, [t′, t′, . . . , t′])$ в $(t′, t′)$, так, что для ключа $t′$ возвращается одна пара  $(t′, t′)$."
      ]
    },
    {
      "cell_type": "code",
      "metadata": {
        "id": "BEvuY4GqvhS6",
        "outputId": "943e2fc1-bb73-47ab-c0b4-539254057d5a",
        "colab": {
          "base_uri": "https://localhost:8080/"
        }
      },
      "source": [
        "S = {1, 5, 10}  # Оставляем только эти атрибуты\n",
        "\n",
        "def MAP(t, _):\n",
        "    \"\"\"Фильтруем атрибуты, оставляя только нужные.\"\"\"\n",
        "    filtered_data = {key: value for key, value in t.items() if key in S}\n",
        "    sorted_key = tuple(sorted(filtered_data.items()))  # Делаем ключ детерминированным\n",
        "    yield (sorted_key, sorted_key)  # Пара (t', t')\n",
        "\n",
        "def REDUCE(_, unique_values):\n",
        "    \"\"\"Удаляем дубликаты, оставляя один экземпляр.\"\"\"\n",
        "    yield unique_values[0]  # Берём первое значение\n",
        "\n",
        "def RECORDREADER():\n",
        "    \"\"\"Генерация входных данных.\"\"\"\n",
        "    yield ({1: \"apple\", 2: \"banana\", 5: \"grape\"}, None)\n",
        "    yield ({1: \"orange\", 3: \"pear\", 10: \"kiwi\"}, None)\n",
        "    yield ({5: \"melon\", 7: \"cherry\", 10: \"mango\"}, None)\n",
        "\n",
        "# Запуск MapReduce\n",
        "filtered_result = list(MapReduce(RECORDREADER, MAP, REDUCE))\n",
        "\n",
        "# Вывод результата\n",
        "print(\"Проекция по выбранным атрибутам:\", filtered_result)\n"
      ],
      "execution_count": 26,
      "outputs": [
        {
          "output_type": "stream",
          "name": "stdout",
          "text": [
            "Проекция по выбранным атрибутам: [((1, 'apple'), (5, 'grape')), ((1, 'orange'), (10, 'kiwi')), ((5, 'melon'), (10, 'mango'))]\n"
          ]
        }
      ]
    },
    {
      "cell_type": "markdown",
      "metadata": {
        "id": "7gau6lKXvn2R"
      },
      "source": [
        "### Union (Объединение)\n",
        "\n",
        "**The Map Function:** Превратите каждый входной кортеж $t$ в пару ключ-значение $(t, t)$.\n",
        "\n",
        "**The Reduce Function:** С каждым ключом $t$ будет ассоциировано одно или два значений. В обоих случаях создайте $(t, t)$ в качестве выходного значения."
      ]
    },
    {
      "cell_type": "code",
      "metadata": {
        "id": "Sns7a5agv3nw",
        "outputId": "10fe797b-3855-475a-be5e-3c4a61cde4b3",
        "colab": {
          "base_uri": "https://localhost:8080/"
        }
      },
      "source": [
        "def MAP(t, _):\n",
        "    \"\"\"Каждый входной элемент преобразуется в пару (element, element).\"\"\"\n",
        "    yield (t, t)\n",
        "\n",
        "def REDUCE(t, grouped_values):\n",
        "    \"\"\"Удаляет дубликаты и возвращает (element, element).\"\"\"\n",
        "    yield (t, t)  # Значения уже сгруппированы, просто оставляем один экземпляр\n",
        "\n",
        "def RECORDREADER():\n",
        "    \"\"\"Имитация объединения двух множеств.\"\"\"\n",
        "    first_set = [(1, None), (2, None), (3, None)]\n",
        "    second_set = [(2, None), (4, None), (5, None)]\n",
        "    return first_set + second_set  # Объединяем два множества\n",
        "\n",
        "# Запуск MapReduce\n",
        "merged_set = list(MapReduce(RECORDREADER, MAP, REDUCE))\n",
        "\n",
        "# Вывод результата\n",
        "print(\"Объединенное множество:\", merged_set)\n",
        "\n"
      ],
      "execution_count": 27,
      "outputs": [
        {
          "output_type": "stream",
          "name": "stdout",
          "text": [
            "Объединенное множество: [(1, 1), (2, 2), (3, 3), (4, 4), (5, 5)]\n"
          ]
        }
      ]
    },
    {
      "cell_type": "markdown",
      "metadata": {
        "id": "dQ8TuEbjv4J8"
      },
      "source": [
        "### Intersection (Пересечение)\n",
        "\n",
        "**The Map Function:** Превратите каждый кортеж $t$ в пары ключ-значение $(t, t)$.\n",
        "\n",
        "**The Reduce Function:** Если для ключа $t$ есть список из двух элементов $[t, t]$ $-$ создайте пару $(t, t)$. Иначе, ничего не создавайте."
      ]
    },
    {
      "cell_type": "code",
      "metadata": {
        "id": "XKlBZh4IwERR",
        "outputId": "8290d604-4c06-49cb-de7d-394e88069f76",
        "colab": {
          "base_uri": "https://localhost:8080/"
        }
      },
      "source": [
        "def MAP(t, _):\n",
        "    \"\"\"Каждый входной элемент преобразуется в пару (element, element).\"\"\"\n",
        "    yield (t, t)\n",
        "\n",
        "def REDUCE(t, occurrences):\n",
        "    \"\"\"Если элемент встречается дважды (в обоих множествах), добавляем его в результат.\"\"\"\n",
        "    if len(occurrences) == 2:\n",
        "        yield (t, t)\n",
        "\n",
        "def RECORDREADER():\n",
        "    \"\"\"Имитация пересечения двух множеств: {1, 2, 3, 4} и {2, 3, 5, 6}.\"\"\"\n",
        "    first_set = [(1, None), (2, None), (3, None), (4, None)]\n",
        "    second_set = [(2, None), (3, None), (5, None), (6, None)]\n",
        "    return first_set + second_set  # Объединяем данные перед MapReduce\n",
        "\n",
        "# Запуск MapReduce\n",
        "intersection_result = list(MapReduce(RECORDREADER, MAP, REDUCE))\n",
        "\n",
        "# Вывод результата\n",
        "print(\"Пересечение множеств:\", intersection_result)\n"
      ],
      "execution_count": 28,
      "outputs": [
        {
          "output_type": "stream",
          "name": "stdout",
          "text": [
            "Пересечение множеств: [(2, 2), (3, 3)]\n"
          ]
        }
      ]
    },
    {
      "cell_type": "markdown",
      "metadata": {
        "id": "AVOpqoY3wE5k"
      },
      "source": [
        "### Difference (Разница)\n",
        "\n",
        "**The Map Function:** Для кортежа $t \\in R$, создайте пару $(t, R)$, и для кортежа $t \\in S$, создайте пару $(t, S)$. Задумка заключается в том, чтобы значение пары было именем отношения $R$ or $S$, которому принадлежит кортеж (а лучше, единичный бит, по которому можно два отношения различить $R$ or $S$), а не весь набор атрибутов отношения.\n",
        "\n",
        "**The Reduce Function:** Для каждого ключа $t$, если соответствующее значение является списком $[R]$, создайте пару $(t, t)$. В иных случаях не предпринимайте действий."
      ]
    },
    {
      "cell_type": "code",
      "metadata": {
        "id": "QE_AC09lwZIZ",
        "outputId": "d017d61d-937b-42e7-a8c8-d736210e4d53",
        "colab": {
          "base_uri": "https://localhost:8080/"
        }
      },
      "source": [
        "\n",
        "def MAP(t, source):\n",
        "    \"\"\"Помечаем каждый элемент его источником (R или S).\"\"\"\n",
        "    yield (t, source)\n",
        "\n",
        "def REDUCE(t, sources):\n",
        "    \"\"\"Добавляем элемент в результат, если он присутствует только в R.\"\"\"\n",
        "    if sources == [\"R\"]:  # Если элемент встречается только в R\n",
        "        yield (t, t)\n",
        "\n",
        "def RECORDREADER():\n",
        "    \"\"\"Определяем два множества: R и S.\"\"\"\n",
        "    R = [(1, \"R\"), (2, \"R\"), (3, \"R\"), (4, \"R\")]  # Множество R\n",
        "    S = [(2, \"S\"), (3, \"S\"), (5, \"S\"), (6, \"S\")]  # Множество S\n",
        "    return R + S  # Объединяем для обработки\n",
        "\n",
        "# Запуск MapReduce\n",
        "difference_result = list(MapReduce(RECORDREADER, MAP, REDUCE))\n",
        "\n",
        "# Вывод результата\n",
        "print(\"Разность R - S:\", difference_result)\n",
        "\n"
      ],
      "execution_count": 29,
      "outputs": [
        {
          "output_type": "stream",
          "name": "stdout",
          "text": [
            "Разность R - S: [(1, 1), (4, 4)]\n"
          ]
        }
      ]
    },
    {
      "cell_type": "markdown",
      "metadata": {
        "id": "j8I58V2VwhSm"
      },
      "source": [
        "### Natural Join\n",
        "\n",
        "**The Map Function:** Для каждого кортежа $(a, b)$ отношения $R$, создайте пару $(b,(R, a))$. Для каждого кортежа $(b, c)$ отношения $S$, создайте пару $(b,(S, c))$.\n",
        "\n",
        "**The Reduce Function:** Каждый ключ $b$ будет асоциирован со списком пар, которые принимают форму либо $(R, a)$, либо $(S, c)$. Создайте все пары, одни, состоящие из  первого компонента $R$, а другие, из первого компонента $S$, то есть $(R, a)$ и $(S, c)$. На выходе вы получаете последовательность пар ключ-значение из списков ключей и значений. Ключ не нужен. Каждое значение, это тройка $(a, b, c)$ такая, что $(R, a)$ и $(S, c)$ это принадлежат входному списку значений."
      ]
    },
    {
      "cell_type": "code",
      "metadata": {
        "id": "yHiuuTctw86I",
        "outputId": "cee77163-0833-44b9-c13e-f15eab725e21",
        "colab": {
          "base_uri": "https://localhost:8080/"
        }
      },
      "source": [
        "def MAP(record, source):\n",
        "    \"\"\"Формирует пары (b, (источник, значение)) для выполнения соединения.\"\"\"\n",
        "    if source == \"R\":\n",
        "        a, b = record\n",
        "        yield (b, (\"R\", a))\n",
        "    elif source == \"S\":\n",
        "        b, c = record\n",
        "        yield (b, (\"S\", c))\n",
        "\n",
        "def REDUCE(b, pairs):\n",
        "    \"\"\"Создает кортежи (a, b, c) для всех подходящих соединений.\"\"\"\n",
        "    r_group = [a for src, a in pairs if src == \"R\"]\n",
        "    s_group = [c for src, c in pairs if src == \"S\"]\n",
        "\n",
        "    for a in r_group:\n",
        "        for c in s_group:\n",
        "            yield (a, b, c)  # Оставляем b для наглядности\n",
        "\n",
        "def RECORDREADER():\n",
        "    \"\"\"Исходные данные для соединения: R(a, b) и S(b, c).\"\"\"\n",
        "    R = [(\"A\", 1), (\"B\", 2), (\"C\", 3)]  # (a, b)\n",
        "    S = [(1, \"apple\"), (2, \"banana\"), (3, \"cherry\")]  # (b, c)\n",
        "    return [(r, \"R\") for r in R] + [(s, \"S\") for s in S]\n",
        "\n",
        "# Запуск MapReduce\n",
        "join_result = list(MapReduce(RECORDREADER, MAP, REDUCE))\n",
        "\n",
        "# Вывод результата\n",
        "print(\"Natural Join:\", join_result)\n"
      ],
      "execution_count": 30,
      "outputs": [
        {
          "output_type": "stream",
          "name": "stdout",
          "text": [
            "Natural Join: [('A', 1, 'apple'), ('B', 2, 'banana'), ('C', 3, 'cherry')]\n"
          ]
        }
      ]
    },
    {
      "cell_type": "markdown",
      "metadata": {
        "id": "kYdlr0YUxE27"
      },
      "source": [
        "### Grouping and Aggregation (Группировка и аггрегация)\n",
        "\n",
        "**The Map Function:** Для каждого кортежа $(a, b, c$) создайте пару $(a, b)$.\n",
        "\n",
        "**The Reduce Function:** Ключ представляет ту или иную группу. Примение аггрегирующую операцию $\\theta$ к списку значений $[b1, b2, . . . , bn]$ ассоциированных с ключом $a$. Возвращайте в выходной поток $(a, x)$, где $x$ результат применения  $\\theta$ к списку. Например, если $\\theta$ это $SUM$, тогда $x = b1 + b2 + · · · + bn$, а если $\\theta$ is $MAX$, тогда $x$ это максимальное из значений $b1, b2, . . . , bn$."
      ]
    },
    {
      "cell_type": "code",
      "metadata": {
        "id": "MLPckfEGxico",
        "outputId": "ca346c87-a65f-4f44-a838-3b000d9f3489",
        "colab": {
          "base_uri": "https://localhost:8080/"
        }
      },
      "source": [
        "from collections import defaultdict\n",
        "from typing import Callable, List, Tuple\n",
        "\n",
        "def MAP(a, b, _):\n",
        "    \"\"\"Формируем (ключ, значение для агрегации).\"\"\"\n",
        "    yield (a, b)\n",
        "\n",
        "def REDUCE(a, values, aggregation_function: Callable[[List[int]], int]):\n",
        "    \"\"\"Применяем агрегирующую функцию и выдаем (ключ, агрегированное значение).\"\"\"\n",
        "    yield (a, aggregation_function(values))\n",
        "\n",
        "def RECORDREADER():\n",
        "    \"\"\"Пример входных данных (a, b, c).\"\"\"\n",
        "    return [(1, 10, \"x\"), (2, 20, \"y\"), (1, 15, \"z\"), (2, 25, \"w\"), (3, 30, \"v\")]\n",
        "\n",
        "def shuffle_phase(mapped_data: List[Tuple[int, int]]) -> dict:\n",
        "    \"\"\"Группируем значения по ключу.\"\"\"\n",
        "    grouped = defaultdict(list)\n",
        "    for k, v in mapped_data:\n",
        "        grouped[k].append(v)\n",
        "    return grouped\n",
        "\n",
        "def MapReduce(recordreader, map_func, reduce_func, aggregation_function):\n",
        "    \"\"\"Общая логика MapReduce.\"\"\"\n",
        "    records = recordreader()\n",
        "\n",
        "    # MAP\n",
        "    mapped_data = []\n",
        "    for record in records:\n",
        "        mapped_data.extend(map_func(*record))  # Распаковываем кортежи\n",
        "\n",
        "    # SHUFFLE\n",
        "    grouped_data = shuffle_phase(mapped_data)\n",
        "\n",
        "    # REDUCE\n",
        "    reduced_data = []\n",
        "    for key, values in grouped_data.items():\n",
        "        reduced_data.extend(reduce_func(key, values, aggregation_function))\n",
        "\n",
        "    return reduced_data\n",
        "\n",
        "# Агрегация с использованием SUM\n",
        "print(\"SUM Aggregation:\", MapReduce(RECORDREADER, MAP, REDUCE, sum))\n",
        "\n",
        "# Агрегация с использованием MAX\n",
        "print(\"MAX Aggregation:\", MapReduce(RECORDREADER, MAP, REDUCE, max))\n"
      ],
      "execution_count": 31,
      "outputs": [
        {
          "output_type": "stream",
          "name": "stdout",
          "text": [
            "SUM Aggregation: [(1, 25), (2, 45), (3, 30)]\n",
            "MAX Aggregation: [(1, 15), (2, 25), (3, 30)]\n"
          ]
        }
      ]
    },
    {
      "cell_type": "markdown",
      "metadata": {
        "id": "03IffTEOJgOb"
      },
      "source": [
        "#"
      ]
    },
    {
      "cell_type": "markdown",
      "metadata": {
        "id": "IIrRgvG4RIS4"
      },
      "source": [
        "### Matrix-Vector multiplication\n",
        "\n",
        "Случай, когда вектор не помещается в памяти Map задачи\n"
      ]
    },
    {
      "cell_type": "code",
      "metadata": {
        "id": "KQhDbiL3zS9r",
        "outputId": "4f32ec61-f1ad-4bef-e95d-b48bd85bc0e2",
        "colab": {
          "base_uri": "https://localhost:8080/"
        }
      },
      "source": [
        "from collections import namedtuple, defaultdict\n",
        "\n",
        "# Описание структуры строки матрицы и элемента вектора\n",
        "Row = namedtuple('Row', ['row', 'col', 'value'])\n",
        "VectorElement = namedtuple('VectorElement', ['index', 'value'])\n",
        "\n",
        "# Входные данные: матрица и вектор\n",
        "matrix = [Row(0, 0, 1.0), Row(0, 1, 2.0), Row(1, 0, 3.0), Row(1, 1, 4.0)]\n",
        "vector = [VectorElement(0, 0.5), VectorElement(1, 0.7)]\n",
        "\n",
        "# Функция INPUTFORMAT для считывания данных и подачи их в MapReduce\n",
        "def INPUTFORMAT():\n",
        "    def reader():\n",
        "        # Помечаем записи как \"matrix\" или \"vector\"\n",
        "        for row in matrix:\n",
        "            yield (\"matrix\", row)\n",
        "        for vec in vector:\n",
        "            yield (\"vector\", vec)\n",
        "    return [list(reader())]  # Возвращаем как один список записей\n",
        "\n",
        "# Функция MAP сопоставления: готовим пары ключ-значение\n",
        "def MAP(source, data):\n",
        "    if source == \"matrix\":\n",
        "        # Для матрицы: ключ = номер столбца\n",
        "        yield (data.col, (\"M\", data.row, data.value))\n",
        "    elif source == \"vector\":\n",
        "        # Для вектора: ключ = индекс элемента\n",
        "        yield (data.index, (\"V\", data.value))\n",
        "\n",
        "# Функция REDUCE обработки группированных значений\n",
        "def REDUCE(key, values):\n",
        "    matrix_elements = []  # Список строк матрицы для данного столбца\n",
        "    vector_value = None   # Значение вектора для данного индекса\n",
        "    for v in values:\n",
        "        if v[0] == \"M\":\n",
        "            matrix_elements.append((v[1], v[2]))\n",
        "        elif v[0] == \"V\":\n",
        "            vector_value = v[1]\n",
        "\n",
        "    if vector_value is not None:\n",
        "        # Умножаем элементы матрицы на значение вектора\n",
        "        for row, m_val in matrix_elements:\n",
        "            yield (row, m_val * vector_value)\n",
        "\n",
        "# Функция PARTITIONER: определяет, к какому редуктору отправить ключ\n",
        "def PARTITIONER(key):\n",
        "    return key  # Просто по номеру столбца (без распределения)\n",
        "\n",
        "# Вспомогательная функция: разворачивает списки списков в один список\n",
        "def flatten(list_of_lists):\n",
        "    return [item for sublist in list_of_lists for item in sublist]\n",
        "\n",
        "# Функция финальной агрегации: складывает частичные произведения\n",
        "def aggregate(results):\n",
        "    result = defaultdict(float)\n",
        "    for row, value in results:\n",
        "        result[row] += value\n",
        "    return dict(result)\n",
        "\n",
        "intermediate_result = MapReduceDistributed(INPUTFORMAT, MAP, REDUCE, PARTITIONER)\n",
        "\n",
        "# Финальная сборка результата\n",
        "final_result = aggregate(flatten([values for pid, values in intermediate_result]))\n",
        "\n",
        "print(\"Matrix-Vector Multiplication Result:\", final_result)"
      ],
      "execution_count": 42,
      "outputs": [
        {
          "output_type": "stream",
          "name": "stdout",
          "text": [
            "6 key-value pairs were sent over a network.\n",
            "Matrix-Vector Multiplication Result: {0: 1.9, 1: 4.3}\n"
          ]
        }
      ]
    },
    {
      "cell_type": "markdown",
      "metadata": {
        "id": "GIo2t7nNxvA9"
      },
      "source": [
        "## Matrix multiplication (Перемножение матриц)\n",
        "\n",
        "Если у нас есть матрица $M$ с элементами $m_{ij}$ в строке $i$ и столбце $j$, и матрица $N$ с элементами $n_{jk}$ в строке $j$ и столбце $k$, тогда их произведение $P = MN$ есть матрица $P$ с элементами $p_{ik}$ в строке $i$ и столбце $k$, где\n",
        "\n",
        "$$p_{ik} =\\sum_{j} m_{ij}n_{jk}$$\n",
        "\n",
        "Необходимым требованием является одинаковое количество столбцов в $M$ и строк в $N$, чтобы операция суммирования по  $j$ была осмысленной. Мы можем размышлять о матрице, как об отношении с тремя атрибутами: номер строки, номер столбца, само значение. Таким образом матрица $M$ предстваляется как отношение $ M(I, J, V )$, с кортежами $(i, j, m_{ij})$, и, аналогично, матрица $N$ представляется как отношение $N(J, K, W)$, с кортежами $(j, k, n_{jk})$. Так как большие матрицы как правило разреженные (большинство значений равно 0), и так как мы можем нулевыми значениями пренебречь (не хранить), такое реляционное представление достаточно эффективно для больших матриц. Однако, возможно, что координаты $i$, $j$, и $k$ неявно закодированы в смещение позиции элемента относительно начала файла, вместо явного хранения. Тогда, функция Map (или Reader) должна быть разработана таким образом, чтобы реконструировать компоненты $I$, $J$, и $K$ кортежей из смещения.\n",
        "\n",
        "Произведение $MN$ это фактически join, за которым следуют группировка по ключу и аггрегация. Таким образом join отношений $M(I, J, V )$ и $N(J, K, W)$, имеющих общим только атрибут $J$, создаст кортежи $(i, j, k, v, w)$ из каждого кортежа $(i, j, v) \\in M$ и кортежа $(j, k, w) \\in N$. Такой 5 компонентный кортеж представляет пару элементов матрицы $(m_{ij} , n_{jk})$. Что нам хотелось бы получить на самом деле, это произведение этих элементов, то есть, 4 компонентный кортеж$(i, j, k, v \\times w)$, так как он представляет произведение $m_{ij}n_{jk}$. Мы представляем отношение как результат одной MapReduce операции, в которой мы можем произвести группировку и аггрегацию, с $I$ и $K$  атрибутами, по которым идёт группировка, и суммой  $V \\times W$.\n",
        "\n",
        "\n",
        "\n"
      ]
    },
    {
      "cell_type": "code",
      "metadata": {
        "id": "1MBkGaLAYVCt"
      },
      "source": [
        "# MapReduce model\n",
        "def flatten(nested_iterable):\n",
        "  for iterable in nested_iterable:\n",
        "    for element in iterable:\n",
        "      yield element\n",
        "\n",
        "def groupbykey(iterable):\n",
        "  t = {}\n",
        "  for (k2, v2) in iterable:\n",
        "    t[k2] = t.get(k2, []) + [v2]\n",
        "  return t.items()\n",
        "\n",
        "def MapReduce(RECORDREADER, MAP, REDUCE):\n",
        "  return flatten(map(lambda x: REDUCE(*x), groupbykey(flatten(map(lambda x: MAP(*x), RECORDREADER())))))"
      ],
      "execution_count": 33,
      "outputs": []
    },
    {
      "cell_type": "markdown",
      "metadata": {
        "id": "sMspsOT0ZB35"
      },
      "source": [
        "Реализуйте перемножение матриц с использованием модельного кода MapReduce для одной машины в случае, когда одна матрица хранится в памяти, а другая генерируется RECORDREADER-ом."
      ]
    },
    {
      "cell_type": "code",
      "metadata": {
        "id": "psP1XekbsEjS",
        "colab": {
          "base_uri": "https://localhost:8080/"
        },
        "outputId": "c8f4aedf-0aef-4fde-dbcc-4b1d75a4fe3d"
      },
      "source": [
        "import numpy as np\n",
        "\n",
        "I = 2\n",
        "J = 3\n",
        "K = 4 * 10\n",
        "small_mat = np.random.rand(I, J)  # Локальная маленькая матрица\n",
        "big_mat = np.random.rand(J, K)  # Большая матрица загружается через RECORDREADER\n",
        "\n",
        "def RECORDREADER():\n",
        "    \"\"\"Генератор, читающий элементы большой матрицы.\"\"\"\n",
        "    for row in range(big_mat.shape[0]):\n",
        "        for col in range(big_mat.shape[1]):\n",
        "            yield ((row, col), big_mat[row, col])  # (j, k) - ключ, значение - n_{jk}\n",
        "\n",
        "def MAP(matrix_key, matrix_value):\n",
        "    \"\"\"Функция отображения: умножает элементы большой и малой матриц.\"\"\"\n",
        "    j, k = matrix_key  # Извлекаем индексы (j, k)\n",
        "    w = matrix_value  # Значение n_{jk}\n",
        "\n",
        "    for i in range(small_mat.shape[0]):  # Перебираем строки маленькой матрицы\n",
        "        v = small_mat[i, j]  # m_{ij}\n",
        "        yield ((i, k), v * w)  # (i, k) - ключ, произведение - значение\n",
        "\n",
        "def REDUCE(key, values):\n",
        "    \"\"\"Функция редукции: суммирует произведения.\"\"\"\n",
        "    i, k = key\n",
        "    yield ((i, k), sum(values))  # Суммируем все произведения\n",
        "\n",
        "# Запуск MapReduce\n",
        "result = list(MapReduce(RECORDREADER, MAP, REDUCE))\n",
        "print(result)\n"
      ],
      "execution_count": 34,
      "outputs": [
        {
          "output_type": "stream",
          "name": "stdout",
          "text": [
            "[((0, 0), np.float64(0.4057777070336668)), ((1, 0), np.float64(1.200211459219013)), ((0, 1), np.float64(0.20211281296288955)), ((1, 1), np.float64(0.8559190125067031)), ((0, 2), np.float64(0.36481513780643193)), ((1, 2), np.float64(0.7880641268543922)), ((0, 3), np.float64(0.4706182040223124)), ((1, 3), np.float64(0.9463535417187143)), ((0, 4), np.float64(0.46754170166821274)), ((1, 4), np.float64(1.5469276908869785)), ((0, 5), np.float64(0.3080198957606918)), ((1, 5), np.float64(1.336937709567397)), ((0, 6), np.float64(0.24184606574871909)), ((1, 6), np.float64(1.1099679327050767)), ((0, 7), np.float64(0.2712241979298812)), ((1, 7), np.float64(1.2670992773041487)), ((0, 8), np.float64(0.4883217616669323)), ((1, 8), np.float64(1.7976932851346024)), ((0, 9), np.float64(0.3373531433023043)), ((1, 9), np.float64(0.683427336840267)), ((0, 10), np.float64(0.19924233894356844)), ((1, 10), np.float64(1.2015613012294666)), ((0, 11), np.float64(0.33188103286785453)), ((1, 11), np.float64(0.9429910632209907)), ((0, 12), np.float64(0.0820859587020179)), ((1, 12), np.float64(0.5751969511693856)), ((0, 13), np.float64(0.538303516985198)), ((1, 13), np.float64(1.7438475937565567)), ((0, 14), np.float64(0.16499701533703712)), ((1, 14), np.float64(0.6269128324306783)), ((0, 15), np.float64(0.43415456840482974)), ((1, 15), np.float64(0.9668233557314426)), ((0, 16), np.float64(0.2200523735447071)), ((1, 16), np.float64(0.7863214254097984)), ((0, 17), np.float64(0.41899935905079155)), ((1, 17), np.float64(1.7091891998229227)), ((0, 18), np.float64(0.4827016791322442)), ((1, 18), np.float64(1.5870340766247089)), ((0, 19), np.float64(0.25355195607061504)), ((1, 19), np.float64(0.4562992012582495)), ((0, 20), np.float64(0.3423857522922025)), ((1, 20), np.float64(0.8602036319054251)), ((0, 21), np.float64(0.24320895720254904)), ((1, 21), np.float64(1.3356472426582628)), ((0, 22), np.float64(0.3011873236811237)), ((1, 22), np.float64(1.3073481361082995)), ((0, 23), np.float64(0.4586322402185033)), ((1, 23), np.float64(1.1263100567198563)), ((0, 24), np.float64(0.44850092369515193)), ((1, 24), np.float64(1.5107899939796816)), ((0, 25), np.float64(0.31967927670924867)), ((1, 25), np.float64(1.4217306158433014)), ((0, 26), np.float64(0.5136600905494461)), ((1, 26), np.float64(1.658068233869066)), ((0, 27), np.float64(0.4572828102703997)), ((1, 27), np.float64(1.5651345416739386)), ((0, 28), np.float64(0.46842252527644)), ((1, 28), np.float64(1.4255143976723974)), ((0, 29), np.float64(0.1531120799980249)), ((1, 29), np.float64(0.9929700237889056)), ((0, 30), np.float64(0.3518019423137313)), ((1, 30), np.float64(0.9789950819546913)), ((0, 31), np.float64(0.4111386012699345)), ((1, 31), np.float64(0.7515505218539752)), ((0, 32), np.float64(0.3768514925590284)), ((1, 32), np.float64(1.3636254578924267)), ((0, 33), np.float64(0.38093315438996017)), ((1, 33), np.float64(1.371492384047913)), ((0, 34), np.float64(0.32298079337117813)), ((1, 34), np.float64(0.6376635655982599)), ((0, 35), np.float64(0.026538935280292837)), ((1, 35), np.float64(0.059230571153229036)), ((0, 36), np.float64(0.4717768017123626)), ((1, 36), np.float64(1.6149084203197357)), ((0, 37), np.float64(0.15686438346522613)), ((1, 37), np.float64(0.6898115091130994)), ((0, 38), np.float64(0.13788974606103283)), ((1, 38), np.float64(0.49424136543094055)), ((0, 39), np.float64(0.49499428799741235)), ((1, 39), np.float64(1.5715184055635618))]\n"
          ]
        }
      ]
    },
    {
      "cell_type": "markdown",
      "metadata": {
        "id": "rnt306LHhHrm"
      },
      "source": [
        "Проверьте своё решение"
      ]
    },
    {
      "cell_type": "code",
      "metadata": {
        "id": "Ewy_ZNYqW5a2",
        "colab": {
          "base_uri": "https://localhost:8080/"
        },
        "outputId": "d8a4a870-7b8a-4c31-aa4e-be80270eddd1"
      },
      "source": [
        "# CHECK THE SOLUTION\n",
        "reference_solution = np.matmul(small_mat, big_mat)\n",
        "solution = MapReduce(RECORDREADER, MAP, REDUCE)\n",
        "\n",
        "def asmatrix(reduce_output):\n",
        "  reduce_output = list(reduce_output)\n",
        "  I = max(i for ((i,k), vw) in reduce_output)+1\n",
        "  K = max(k for ((i,k), vw) in reduce_output)+1\n",
        "  mat = np.empty(shape=(I,K))\n",
        "  for ((i,k), vw) in reduce_output:\n",
        "    mat[i,k] = vw\n",
        "  return mat\n",
        "\n",
        "np.allclose(reference_solution, asmatrix(solution)) # should return true"
      ],
      "execution_count": 35,
      "outputs": [
        {
          "output_type": "execute_result",
          "data": {
            "text/plain": [
              "True"
            ]
          },
          "metadata": {},
          "execution_count": 35
        }
      ]
    },
    {
      "cell_type": "code",
      "metadata": {
        "id": "TK7v4CEcfxqf",
        "colab": {
          "base_uri": "https://localhost:8080/"
        },
        "outputId": "5ecb29e7-8dc1-4e67-927b-0daf3000a719"
      },
      "source": [
        "reduce_output = list(MapReduce(RECORDREADER, MAP, REDUCE))\n",
        "max(i for ((i,k), vw) in reduce_output)"
      ],
      "execution_count": 36,
      "outputs": [
        {
          "output_type": "execute_result",
          "data": {
            "text/plain": [
              "1"
            ]
          },
          "metadata": {},
          "execution_count": 36
        }
      ]
    },
    {
      "cell_type": "markdown",
      "metadata": {
        "id": "i4yyg3kOZqJJ"
      },
      "source": [
        "Реализуйте перемножение матриц  с использованием модельного кода MapReduce для одной машины в случае, когда обе матрицы генерируются в RECORDREADER. Например, сначала одна, а потом другая."
      ]
    },
    {
      "cell_type": "code",
      "metadata": {
        "id": "3B7rIAJCaHZq",
        "colab": {
          "base_uri": "https://localhost:8080/"
        },
        "outputId": "1845f248-b28e-4d34-e636-993861fb9108"
      },
      "source": [
        "import numpy as np  # Импорт библиотеки NumPy для работы с матрицами\n",
        "\n",
        "# Размерности матриц\n",
        "I = 2\n",
        "J = 3\n",
        "K = 40\n",
        "\n",
        "# Генерация случайных матриц\n",
        "np.random.seed(42)  # Фиксируем seed для воспроизводимости результатов\n",
        "small_mat = np.random.rand(I, J)  # Матрица M размером (I x J)\n",
        "big_mat = np.random.rand(J, K)  # Матрица N размером (J x K)\n",
        "\n",
        "# Эталонное решение с использованием стандартного перемножения матриц\n",
        "reference_solution = np.matmul(small_mat, big_mat)\n",
        "\n",
        "# Функция, читающая данные обеих матриц\n",
        "def RECORDREADER():\n",
        "    \"\"\"Чтение данных из матриц M и N.\"\"\"\n",
        "    for row in range(small_mat.shape[0]):\n",
        "        for col in range(small_mat.shape[1]):\n",
        "            yield ((0, row, col), small_mat[row, col])  # (0, i, j, M[i, j])\n",
        "\n",
        "    for row in range(big_mat.shape[0]):\n",
        "        for col in range(big_mat.shape[1]):\n",
        "            yield ((1, row, col), big_mat[row, col])  # (1, j, k, N[j, k])\n",
        "\n",
        "# Функция MAP для соединения матриц по j\n",
        "def MAP_JOIN(key, value):\n",
        "    \"\"\"Разбивает элементы по индексу j для соединения.\"\"\"\n",
        "    mat_type, first_idx, second_idx = key\n",
        "\n",
        "    if mat_type == 0:  # Элемент первой матрицы (M)\n",
        "        yield (second_idx, (0, first_idx, value))  # Группируем по j\n",
        "    else:  # Элемент второй матрицы (N)\n",
        "        yield (first_idx, (1, second_idx, value))  # Группируем по j\n",
        "\n",
        "# Функция REDUCE для соединения матриц по j\n",
        "def REDUCE_JOIN(key, values):\n",
        "    \"\"\"Соединяет элементы M и N по общему индексу j.\"\"\"\n",
        "    matrix_m = [v for v in values if v[0] == 0]\n",
        "    matrix_n = [v for v in values if v[0] == 1]\n",
        "\n",
        "    for m in matrix_m:\n",
        "        for n in matrix_n:\n",
        "            yield ((m[1], n[1]), m[2] * n[2])  # Умножение mij * njk\n",
        "\n",
        "# Функция MAP для финальной агрегации\n",
        "def MAP_MUL(key, value):\n",
        "    \"\"\"Передаёт (i, k) без изменений для суммирования.\"\"\"\n",
        "    yield (key, value)\n",
        "\n",
        "# Функция REDUCE для суммирования произведений\n",
        "def REDUCE_MUL(key, values):\n",
        "    \"\"\"Суммирует все элементы с одинаковым (i, k).\"\"\"\n",
        "    yield (key, sum(values))\n",
        "\n",
        "# Генерация объединённых значений через MapReduce\n",
        "joined_data = MapReduce(RECORDREADER, MAP_JOIN, REDUCE_JOIN)\n",
        "\n",
        "# Финальная агрегация через MapReduce\n",
        "final_solution = MapReduce(lambda: joined_data, MAP_MUL, REDUCE_MUL)\n",
        "\n",
        "# Проверка результата\n",
        "print(np.allclose(reference_solution, asmatrix(final_solution)))  # Должно вывести True\n"
      ],
      "execution_count": 37,
      "outputs": [
        {
          "output_type": "stream",
          "name": "stdout",
          "text": [
            "True\n"
          ]
        }
      ]
    },
    {
      "cell_type": "markdown",
      "metadata": {
        "id": "mXyzQi1DaIwo"
      },
      "source": [
        "Реализуйте перемножение матриц с использованием модельного кода MapReduce Distributed, когда каждая матрица генерируется в своём RECORDREADER."
      ]
    },
    {
      "cell_type": "code",
      "metadata": {
        "id": "TDM_s78Rb5eR",
        "colab": {
          "base_uri": "https://localhost:8080/"
        },
        "outputId": "06079cdf-57af-432b-a1a9-718cc30fdebc"
      },
      "source": [
        "import numpy as np\n",
        "\n",
        "NUM_MAPPERS = 2\n",
        "reducers = 2\n",
        "ROWS_A = 2\n",
        "COLS_A = 3\n",
        "COLS_B = 40  # K = 4 * 10\n",
        "\n",
        "# Генерация данных\n",
        "A = np.random.rand(ROWS_A, COLS_A)\n",
        "B = np.random.rand(COLS_A, COLS_B)\n",
        "\n",
        "def generate_chunks():\n",
        "    \"\"\"Создаёт части матриц для обработки в MAP.\"\"\"\n",
        "    chunk_size = int(np.ceil(ROWS_A / NUM_MAPPERS))\n",
        "    for start_row in range(0, ROWS_A, chunk_size):\n",
        "        yield process_chunk(range(start_row, min(start_row + chunk_size, ROWS_A)))\n",
        "\n",
        "def process_chunk(rows):\n",
        "    \"\"\"Генерирует пары (координаты, значение) из двух матриц.\"\"\"\n",
        "    for row in rows:\n",
        "        for j in range(COLS_A):\n",
        "            for k in range(COLS_B):\n",
        "                yield ((row, j), A[row, j]), ((j, k), B[j, k])\n",
        "\n",
        "def map_function(pair_A, pair_B):\n",
        "    \"\"\"Умножает элементы и группирует по (i, k).\"\"\"\n",
        "    (i, j), val_A = pair_A\n",
        "    (j, k), val_B = pair_B\n",
        "    yield (i, k), val_A * val_B\n",
        "\n",
        "def reduce_function(index, values):\n",
        "    \"\"\"Суммирует элементы с одинаковыми индексами.\"\"\"\n",
        "    yield index, sum(values)\n",
        "\n",
        "# Запуск MapReduce\n",
        "intermediate_results = MapReduceDistributed(generate_chunks, map_function, reduce_function)\n",
        "\n",
        "# Объединение результатов\n",
        "final_result = {}\n",
        "for partition_id, partition in intermediate_results:\n",
        "    for index, value in partition:\n",
        "        final_result[index] = final_result.get(index, 0) + value\n",
        "\n",
        "# Вывод результата\n",
        "print(\"Matrix Multiplication Result:\\n\", final_result)"
      ],
      "execution_count": 38,
      "outputs": [
        {
          "output_type": "stream",
          "name": "stdout",
          "text": [
            "240 key-value pairs were sent over a network.\n",
            "Matrix Multiplication Result:\n",
            " {(0, 1): np.float64(0.47268518561234973), (0, 2): np.float64(1.331585175830705), (0, 4): np.float64(1.021351852495352), (0, 5): np.float64(0.9131445349756118), (0, 8): np.float64(1.0854341486196752), (0, 9): np.float64(0.3075827214969634), (0, 11): np.float64(1.003832121786526), (0, 12): np.float64(0.45686569948009204), (0, 15): np.float64(0.8918100486065025), (0, 16): np.float64(0.5041984539756577), (0, 18): np.float64(0.8286369376706371), (0, 19): np.float64(0.9717206052489281), (0, 22): np.float64(1.099447290027778), (0, 23): np.float64(0.5036027285086736), (0, 25): np.float64(1.395355376421955), (0, 26): np.float64(0.9624208429352515), (0, 29): np.float64(0.5962891831345462), (0, 32): np.float64(0.5959378597563265), (0, 33): np.float64(0.6976597508277623), (0, 36): np.float64(0.04441053975372091), (0, 39): np.float64(0.6117816957363831), (1, 0): np.float64(0.4197798780682388), (1, 1): np.float64(0.31678983211806466), (1, 3): np.float64(0.2905523671212979), (1, 4): np.float64(0.6256497395186525), (1, 7): np.float64(0.7423569849982339), (1, 10): np.float64(0.6607515214848413), (1, 11): np.float64(0.6015564366326857), (1, 14): np.float64(0.8685641215901408), (1, 17): np.float64(0.38345055566397046), (1, 18): np.float64(0.6792902693535021), (1, 21): np.float64(0.6236422180184992), (1, 24): np.float64(0.7086750406252602), (1, 25): np.float64(0.7688596237247428), (1, 27): np.float64(0.736800834888107), (1, 28): np.float64(0.664718513453437), (1, 31): np.float64(0.7309270183375837), (1, 32): np.float64(0.3026784538912303), (1, 34): np.float64(0.30129593506476826), (1, 35): np.float64(0.5869183504406636), (1, 38): np.float64(0.640511090327881), (1, 39): np.float64(0.3828100707402756), (0, 0): np.float64(0.5433583169304825), (0, 3): np.float64(0.4161166755448973), (0, 6): np.float64(1.108242866343397), (0, 7): np.float64(0.9192044873893017), (0, 10): np.float64(1.2033199367606149), (0, 13): np.float64(0.5999387683377239), (0, 14): np.float64(1.2088052633893558), (0, 17): np.float64(0.44049434373748003), (0, 20): np.float64(0.8975542155036819), (0, 21): np.float64(0.9487334190041795), (0, 24): np.float64(1.1766210234848822), (0, 27): np.float64(1.2681857559657606), (0, 28): np.float64(0.8600064973225919), (0, 30): np.float64(0.6637156920657984), (0, 31): np.float64(1.2142580651603863), (0, 34): np.float64(0.3527192821259462), (0, 35): np.float64(0.7303914708215375), (0, 37): np.float64(0.6277017935750313), (0, 38): np.float64(1.0286166545562356), (1, 2): np.float64(0.9090713770128865), (1, 5): np.float64(0.6862941972949815), (1, 6): np.float64(0.7210127836478518), (1, 8): np.float64(0.7799931671430935), (1, 9): np.float64(0.30218800431997034), (1, 12): np.float64(0.31205270496400545), (1, 13): np.float64(0.3485165170474275), (1, 15): np.float64(0.5757989578219744), (1, 16): np.float64(0.4455051197792513), (1, 19): np.float64(0.6085029432376949), (1, 20): np.float64(0.5779839282381534), (1, 22): np.float64(0.6882980684298883), (1, 23): np.float64(0.4298552533380888), (1, 26): np.float64(0.635016807180898), (1, 29): np.float64(0.5699444321567285), (1, 30): np.float64(0.5942377211512558), (1, 33): np.float64(0.636654250355516), (1, 36): np.float64(0.23696607758923507), (1, 37): np.float64(0.5583800893667771)}\n"
          ]
        }
      ]
    },
    {
      "cell_type": "markdown",
      "metadata": {
        "id": "ZuSA2P9Db6UM"
      },
      "source": [
        "Обобщите предыдущее решение на случай, когда каждая матрица генерируется несколькими RECORDREADER-ами, и проверьте его работоспособность. Будет ли работать решение, если RECORDREADER-ы будут генерировать случайное подмножество элементов матрицы?"
      ]
    },
    {
      "cell_type": "code",
      "metadata": {
        "id": "ehN0FqRDcwU5",
        "colab": {
          "base_uri": "https://localhost:8080/",
          "height": 207
        },
        "outputId": "4bfb4fd3-761d-4015-dd8d-928d53d8d2d3"
      },
      "source": [
        "import numpy as np\n",
        "\n",
        "# Определение размеров матриц\n",
        "ROWS_A = 2\n",
        "COLS_A = 3\n",
        "COLS_B = 40  # K = 4 * 10\n",
        "\n",
        "# Генерация случайных матриц\n",
        "matrix_a = np.random.rand(ROWS_A, COLS_A)\n",
        "matrix_b = np.random.rand(COLS_A, COLS_B)\n",
        "\n",
        "# Получение эталонного результата через умножение матриц\n",
        "expected_result = np.matmul(matrix_a, matrix_b)\n",
        "\n",
        "# Функция для \"разглаживания\" вложенных итерируемых объектов\n",
        "def flatten_iterables(nested_iterable):\n",
        "    for iterable in nested_iterable:\n",
        "        for element in iterable:\n",
        "            yield element\n",
        "\n",
        "# Функция для группировки элементов по ключу\n",
        "def group_elements_by_key(iterable):\n",
        "    grouped = {}\n",
        "    for (key, value) in iterable:\n",
        "        grouped[key] = grouped.get(key, []) + [value]\n",
        "    return grouped.items()\n",
        "\n",
        "# Функция для распределенной группировки элементов по ключу\n",
        "def distributed_grouping(map_partitions, partition_func):\n",
        "    partitions = [dict() for _ in range(num_reducers)]\n",
        "    for map_partition in map_partitions:\n",
        "        for (key, value) in map_partition:\n",
        "            partition = partitions[partition_func(key)]\n",
        "            partition[key] = partition.get(key, []) + [value]\n",
        "    return [(partition_id, sorted(partition.items(), key=lambda x: x[0])) for (partition_id, partition) in enumerate(partitions)]\n",
        "\n",
        "# Функция для выполнения MapReduce на распределенных данных\n",
        "def distributed_map_reduce(input_format, map_func, reduce_func, partition_func=partition_function, combiner=None):\n",
        "    map_partitions = map(lambda record_reader: flatten_iterables(map(lambda kv: map_func(*kv), record_reader)), input_format())\n",
        "\n",
        "    if combiner is not None:\n",
        "        map_partitions = map(lambda map_partition: flatten_iterables(map(lambda kv: combiner(*kv), group_elements_by_key(map_partition))), map_partitions)\n",
        "\n",
        "    reduce_partitions = distributed_grouping(map_partitions, partition_func)\n",
        "\n",
        "    reduce_outputs = map(lambda reduce_partition: (reduce_partition[0], flatten_iterables(map(lambda reduce_input_group: reduce_func(*reduce_input_group), reduce_partition[1]))), reduce_partitions)\n",
        "\n",
        "    return reduce_outputs\n",
        "\n",
        "# Функция для преобразования результата REDUCE в матрицу\n",
        "def convert_to_matrix(reduce_output):\n",
        "    reduce_output = list(reduce_output)\n",
        "    rows = max(i for ((i, k), value) in reduce_output) + 1\n",
        "    cols = max(k for ((i, k), value) in reduce_output) + 1\n",
        "    result_matrix = np.empty(shape=(rows, cols))\n",
        "    for ((i, k), value) in reduce_output:\n",
        "        result_matrix[i, k] = value\n",
        "    return result_matrix\n",
        "\n",
        "# Генератор для вводных данных\n",
        "def input_data_format():\n",
        "    data_a = []\n",
        "\n",
        "    for i in range(matrix_a.shape[0]):\n",
        "        for j in range(matrix_a.shape[1]):\n",
        "            data_a.append(((0, i, j), matrix_a[i, j]))  # первая матрица\n",
        "\n",
        "    split_size = int(np.ceil(len(data_a) / num_maps))\n",
        "\n",
        "    for i in range(0, len(data_a), split_size):\n",
        "        yield data_a[i:i + split_size]\n",
        "\n",
        "    data_b = []\n",
        "\n",
        "    for j in range(matrix_b.shape[0]):\n",
        "        for k in range(matrix_b.shape[1]):\n",
        "            data_b.append(((1, j, k), matrix_b[j, k]))  # вторая матрица\n",
        "\n",
        "    split_size = int(np.ceil(len(data_b) / num_maps))\n",
        "\n",
        "    for i in range(0, len(data_b), split_size):\n",
        "        yield data_b[i:i + split_size]\n",
        "\n",
        "# MAP функция для соединения матриц\n",
        "def map_join_func(key1, value1):\n",
        "    (matrix_id, i, j) = key1\n",
        "    weight = value1\n",
        "\n",
        "    if matrix_id == 0:\n",
        "        yield (j, (matrix_id, i, weight))\n",
        "    else:\n",
        "        yield (i, (matrix_id, j, weight))\n",
        "\n",
        "# REDUCE функция для соединения матриц\n",
        "def reduce_join_func(key, values):\n",
        "    from_first_matrix = [v for v in values if v[0] == 0]\n",
        "    from_second_matrix = [v for v in values if v[0] == 1]\n",
        "\n",
        "    for f in from_first_matrix:\n",
        "        for s in from_second_matrix:\n",
        "            yield ((f[1], s[1]), f[2] * s[2])\n",
        "\n",
        "# Генератор для получения соединенных данных\n",
        "def generate_joined_data():\n",
        "    for j in joined_data:\n",
        "        yield j[1]\n",
        "\n",
        "# MAP функция для передачи значений\n",
        "def map_multiplication(key1, value1):\n",
        "    yield (key1, value1)\n",
        "\n",
        "# REDUCE функция для суммирования значений\n",
        "def reduce_multiplication(key, values):\n",
        "    total_value = 0\n",
        "\n",
        "    for v in values:\n",
        "        total_value += v\n",
        "    yield (key, total_value)\n",
        "\n",
        "num_maps = 3\n",
        "num_reducers = 2\n",
        "\n",
        "# Выполнение MapReduce для соединения матриц\n",
        "partitioned_result = distributed_map_reduce(input_data_format, map_join_func, reduce_join_func, combiner=None)\n",
        "joined_data = [(partition_id, list(partition)) for (partition_id, partition) in partitioned_result]\n",
        "\n",
        "# Выполнение MapReduce для умножения значений\n",
        "multiplication_output = distributed_map_reduce(generate_joined_data, map_multiplication, reduce_multiplication, combiner=None)\n",
        "pre_result = [(partition_id, list(partition)) for (partition_id, partition) in multiplication_output]\n",
        "\n",
        "# Формирование окончательного результата\n",
        "final_solution = []\n",
        "\n",
        "for p in pre_result:\n",
        "    for v in p[1]:\n",
        "        final_solution.append(v)\n",
        "\n",
        "# Проверка на соответствие с эталонным решением\n",
        "is_close = np.allclose(expected_result, convert_to_matrix(final_solution))\n",
        "\n",
        "# Вывод части матрицы\n",
        "result_matrix = convert_to_matrix(final_solution)\n",
        "print(\"Результат умножения матриц (части первой и последней строки):\")\n",
        "print(result_matrix[0])  # Первая строка\n",
        "print(result_matrix[-1])  # Последняя строка\n",
        "print(\"Сравнение с эталонным решением:\", is_close)"
      ],
      "execution_count": 39,
      "outputs": [
        {
          "output_type": "error",
          "ename": "NameError",
          "evalue": "name 'partition_function' is not defined",
          "traceback": [
            "\u001b[0;31m---------------------------------------------------------------------------\u001b[0m",
            "\u001b[0;31mNameError\u001b[0m                                 Traceback (most recent call last)",
            "\u001b[0;32m<ipython-input-39-367366e848d3>\u001b[0m in \u001b[0;36m<cell line: 0>\u001b[0;34m()\u001b[0m\n\u001b[1;32m     36\u001b[0m \u001b[0;34m\u001b[0m\u001b[0m\n\u001b[1;32m     37\u001b[0m \u001b[0;31m# Функция для выполнения MapReduce на распределенных данных\u001b[0m\u001b[0;34m\u001b[0m\u001b[0;34m\u001b[0m\u001b[0m\n\u001b[0;32m---> 38\u001b[0;31m \u001b[0;32mdef\u001b[0m \u001b[0mdistributed_map_reduce\u001b[0m\u001b[0;34m(\u001b[0m\u001b[0minput_format\u001b[0m\u001b[0;34m,\u001b[0m \u001b[0mmap_func\u001b[0m\u001b[0;34m,\u001b[0m \u001b[0mreduce_func\u001b[0m\u001b[0;34m,\u001b[0m \u001b[0mpartition_func\u001b[0m\u001b[0;34m=\u001b[0m\u001b[0mpartition_function\u001b[0m\u001b[0;34m,\u001b[0m \u001b[0mcombiner\u001b[0m\u001b[0;34m=\u001b[0m\u001b[0;32mNone\u001b[0m\u001b[0;34m)\u001b[0m\u001b[0;34m:\u001b[0m\u001b[0;34m\u001b[0m\u001b[0;34m\u001b[0m\u001b[0m\n\u001b[0m\u001b[1;32m     39\u001b[0m     \u001b[0mmap_partitions\u001b[0m \u001b[0;34m=\u001b[0m \u001b[0mmap\u001b[0m\u001b[0;34m(\u001b[0m\u001b[0;32mlambda\u001b[0m \u001b[0mrecord_reader\u001b[0m\u001b[0;34m:\u001b[0m \u001b[0mflatten_iterables\u001b[0m\u001b[0;34m(\u001b[0m\u001b[0mmap\u001b[0m\u001b[0;34m(\u001b[0m\u001b[0;32mlambda\u001b[0m \u001b[0mkv\u001b[0m\u001b[0;34m:\u001b[0m \u001b[0mmap_func\u001b[0m\u001b[0;34m(\u001b[0m\u001b[0;34m*\u001b[0m\u001b[0mkv\u001b[0m\u001b[0;34m)\u001b[0m\u001b[0;34m,\u001b[0m \u001b[0mrecord_reader\u001b[0m\u001b[0;34m)\u001b[0m\u001b[0;34m)\u001b[0m\u001b[0;34m,\u001b[0m \u001b[0minput_format\u001b[0m\u001b[0;34m(\u001b[0m\u001b[0;34m)\u001b[0m\u001b[0;34m)\u001b[0m\u001b[0;34m\u001b[0m\u001b[0;34m\u001b[0m\u001b[0m\n\u001b[1;32m     40\u001b[0m \u001b[0;34m\u001b[0m\u001b[0m\n",
            "\u001b[0;31mNameError\u001b[0m: name 'partition_function' is not defined"
          ]
        }
      ]
    }
  ]
}