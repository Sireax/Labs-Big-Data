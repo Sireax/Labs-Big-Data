{
  "nbformat": 4,
  "nbformat_minor": 0,
  "metadata": {
    "colab": {
      "provenance": [],
      "include_colab_link": true
    },
    "kernelspec": {
      "name": "python3",
      "display_name": "Python 3"
    }
  },
  "cells": [
    {
      "cell_type": "markdown",
      "metadata": {
        "id": "view-in-github",
        "colab_type": "text"
      },
      "source": [
        "<a href=\"https://colab.research.google.com/github/Sireax/Labs-Big-Data/blob/main/Big_Data_1_6403_Ovchinnikov_EV.ipynb\" target=\"_parent\"><img src=\"https://colab.research.google.com/assets/colab-badge.svg\" alt=\"Open In Colab\"/></a>"
      ]
    },
    {
      "cell_type": "markdown",
      "metadata": {
        "id": "82OvPKEiEqjc"
      },
      "source": [
        "# Введение в MapReduce модель на Python\n"
      ]
    },
    {
      "cell_type": "code",
      "metadata": {
        "id": "JQ2cvXLjICmI"
      },
      "source": [
        "from typing import NamedTuple # requires python 3.6+\n",
        "from typing import Iterator"
      ],
      "execution_count": null,
      "outputs": []
    },
    {
      "cell_type": "code",
      "metadata": {
        "id": "yjPHumVwEyEg"
      },
      "source": [
        "def MAP(_, row:NamedTuple):\n",
        "  if (row.gender == 'female'):\n",
        "    yield (row.age, row)\n",
        "\n",
        "def REDUCE(age:str, rows:Iterator[NamedTuple]):\n",
        "  sum = 0\n",
        "  count = 0\n",
        "  for row in rows:\n",
        "    sum += row.social_contacts\n",
        "    count += 1\n",
        "  if (count > 0):\n",
        "    yield (age, sum/count)\n",
        "  else:\n",
        "    yield (age, 0)"
      ],
      "execution_count": null,
      "outputs": []
    },
    {
      "cell_type": "markdown",
      "metadata": {
        "id": "vBKMgpG_ilaZ"
      },
      "source": [
        "Модель элемента данных"
      ]
    },
    {
      "cell_type": "code",
      "metadata": {
        "id": "Rv-XIjhTJPx3"
      },
      "source": [
        "class User(NamedTuple):\n",
        "  id: int\n",
        "  age: str\n",
        "  social_contacts: int\n",
        "  gender: str"
      ],
      "execution_count": null,
      "outputs": []
    },
    {
      "cell_type": "code",
      "metadata": {
        "id": "5KV0Ze2vQgu5"
      },
      "source": [
        "input_collection = [\n",
        "    User(id=0, age=55, gender='male', social_contacts=20),\n",
        "    User(id=1, age=25, gender='female', social_contacts=240),\n",
        "    User(id=2, age=25, gender='female', social_contacts=500),\n",
        "    User(id=3, age=33, gender='female', social_contacts=800)\n",
        "]"
      ],
      "execution_count": null,
      "outputs": []
    },
    {
      "cell_type": "markdown",
      "metadata": {
        "id": "YFeqzyZxZIFZ"
      },
      "source": [
        "Функция RECORDREADER моделирует чтение элементов с диска или по сети."
      ]
    },
    {
      "cell_type": "code",
      "metadata": {
        "id": "S5HR4E_GQoMJ"
      },
      "source": [
        "def RECORDREADER():\n",
        "  return [(u.id, u) for u in input_collection]"
      ],
      "execution_count": null,
      "outputs": []
    },
    {
      "cell_type": "code",
      "metadata": {
        "id": "NeEoWla-ROUy",
        "colab": {
          "base_uri": "https://localhost:8080/"
        },
        "outputId": "a1ec79e1-faff-4c29-c483-cfcb2cfd932c"
      },
      "source": [
        "list(RECORDREADER())"
      ],
      "execution_count": null,
      "outputs": [
        {
          "output_type": "execute_result",
          "data": {
            "text/plain": [
              "[(0, User(id=0, age=55, social_contacts=20, gender='male')),\n",
              " (1, User(id=1, age=25, social_contacts=240, gender='female')),\n",
              " (2, User(id=2, age=25, social_contacts=500, gender='female')),\n",
              " (3, User(id=3, age=33, social_contacts=800, gender='female'))]"
            ]
          },
          "metadata": {},
          "execution_count": 6
        }
      ]
    },
    {
      "cell_type": "code",
      "metadata": {
        "id": "YB8orgPSZs8M"
      },
      "source": [
        "def flatten(nested_iterable):\n",
        "  for iterable in nested_iterable:\n",
        "    for element in iterable:\n",
        "      yield element"
      ],
      "execution_count": null,
      "outputs": []
    },
    {
      "cell_type": "code",
      "metadata": {
        "id": "74oyvDLaRmd5",
        "colab": {
          "base_uri": "https://localhost:8080/"
        },
        "outputId": "e76f0341-dca5-49e7-84f4-a1bdc4807f46"
      },
      "source": [
        "map_output = flatten(map(lambda x: MAP(*x), RECORDREADER()))\n",
        "map_output = list(map_output) # materialize\n",
        "map_output"
      ],
      "execution_count": null,
      "outputs": [
        {
          "output_type": "execute_result",
          "data": {
            "text/plain": [
              "[(25, User(id=1, age=25, social_contacts=240, gender='female')),\n",
              " (25, User(id=2, age=25, social_contacts=500, gender='female')),\n",
              " (33, User(id=3, age=33, social_contacts=800, gender='female'))]"
            ]
          },
          "metadata": {},
          "execution_count": 8
        }
      ]
    },
    {
      "cell_type": "code",
      "metadata": {
        "id": "8ncYDJ3-VzDn"
      },
      "source": [
        "def groupbykey(iterable):\n",
        "  t = {}\n",
        "  for (k2, v2) in iterable:\n",
        "    t[k2] = t.get(k2, []) + [v2]\n",
        "  return t.items()"
      ],
      "execution_count": null,
      "outputs": []
    },
    {
      "cell_type": "code",
      "metadata": {
        "id": "cKzY_6COWOA2",
        "colab": {
          "base_uri": "https://localhost:8080/"
        },
        "outputId": "fd12fac7-0543-4728-de68-d6ae7cc8f2fa"
      },
      "source": [
        "shuffle_output = groupbykey(map_output)\n",
        "shuffle_output = list(shuffle_output)\n",
        "shuffle_output"
      ],
      "execution_count": null,
      "outputs": [
        {
          "output_type": "execute_result",
          "data": {
            "text/plain": [
              "[(25,\n",
              "  [User(id=1, age=25, social_contacts=240, gender='female'),\n",
              "   User(id=2, age=25, social_contacts=500, gender='female')]),\n",
              " (33, [User(id=3, age=33, social_contacts=800, gender='female')])]"
            ]
          },
          "metadata": {},
          "execution_count": 10
        }
      ]
    },
    {
      "cell_type": "code",
      "metadata": {
        "id": "NlA7lkDDYL0t",
        "colab": {
          "base_uri": "https://localhost:8080/"
        },
        "outputId": "67dbfc46-7798-4497-d352-b17de79ddead"
      },
      "source": [
        "reduce_output = flatten(map(lambda x: REDUCE(*x), shuffle_output))\n",
        "reduce_output = list(reduce_output)\n",
        "reduce_output"
      ],
      "execution_count": null,
      "outputs": [
        {
          "output_type": "execute_result",
          "data": {
            "text/plain": [
              "[(25, 370.0), (33, 800.0)]"
            ]
          },
          "metadata": {},
          "execution_count": 11
        }
      ]
    },
    {
      "cell_type": "markdown",
      "metadata": {
        "id": "xf6qhHEtd6bI"
      },
      "source": [
        "Все действия одним конвейером!"
      ]
    },
    {
      "cell_type": "code",
      "metadata": {
        "id": "dZaQGYxCdpw5",
        "colab": {
          "base_uri": "https://localhost:8080/"
        },
        "outputId": "32f22c12-dd32-4a58-ff1b-85360dfa98ed"
      },
      "source": [
        "list(flatten(map(lambda x: REDUCE(*x), groupbykey(flatten(map(lambda x: MAP(*x), RECORDREADER()))))))"
      ],
      "execution_count": null,
      "outputs": [
        {
          "output_type": "execute_result",
          "data": {
            "text/plain": [
              "[(25, 370.0), (33, 800.0)]"
            ]
          },
          "metadata": {},
          "execution_count": 12
        }
      ]
    },
    {
      "cell_type": "markdown",
      "metadata": {
        "id": "Vq3EWRIpwSiJ"
      },
      "source": [
        "# **MapReduce**\n",
        "Выделим общую для всех пользователей часть системы в отдельную функцию высшего порядка. Это наиболее простая модель MapReduce, без учёта распределённого хранения данных.\n",
        "\n",
        "Пользователь для решения своей задачи реализует RECORDREADER, MAP, REDUCE."
      ]
    },
    {
      "cell_type": "code",
      "metadata": {
        "id": "V1PZeQMwwVjc"
      },
      "source": [
        "def flatten(nested_iterable):\n",
        "  for iterable in nested_iterable:\n",
        "    for element in iterable:\n",
        "      yield element\n",
        "\n",
        "def groupbykey(iterable):\n",
        "  t = {}\n",
        "  for (k2, v2) in iterable:\n",
        "    t[k2] = t.get(k2, []) + [v2]\n",
        "  return t.items()\n",
        "\n",
        "def MapReduce(RECORDREADER, MAP, REDUCE):\n",
        "  return flatten(map(lambda x: REDUCE(*x), groupbykey(flatten(map(lambda x: MAP(*x), RECORDREADER())))))"
      ],
      "execution_count": null,
      "outputs": []
    },
    {
      "cell_type": "markdown",
      "metadata": {
        "id": "iFIVrimep678"
      },
      "source": [
        "## Спецификация MapReduce\n",
        "\n",
        "\n",
        "\n",
        "```\n",
        "f (k1, v1) -> (k2,v2)*\n",
        "g (k2, v2*) -> (k3,v3)*\n",
        "\n",
        "mapreduce ((k1,v1)*) -> (k3,v3)*\n",
        "groupby ((k2,v2)*) -> (k2,v2*)*\n",
        "flatten (e2**) -> e2*\n",
        "\n",
        "mapreduce .map(f).flatten.groupby(k2).map(g).flatten\n",
        "```\n",
        "\n",
        "\n"
      ]
    },
    {
      "cell_type": "markdown",
      "metadata": {
        "id": "QtTFyqke3KGe"
      },
      "source": [
        "# Примеры"
      ]
    },
    {
      "cell_type": "markdown",
      "metadata": {
        "id": "BNhh5763w5Vn"
      },
      "source": [
        "## SQL"
      ]
    },
    {
      "cell_type": "code",
      "metadata": {
        "id": "QkyurnvGxBGk",
        "colab": {
          "base_uri": "https://localhost:8080/"
        },
        "outputId": "44b808b2-b0cd-4ac2-b5ec-27ffc100a603"
      },
      "source": [
        "from typing import NamedTuple # requires python 3.6+\n",
        "from typing import Iterator\n",
        "\n",
        "class User(NamedTuple):\n",
        "  id: int\n",
        "  age: str\n",
        "  social_contacts: int\n",
        "  gender: str\n",
        "\n",
        "input_collection = [\n",
        "    User(id=0, age=55, gender='male', social_contacts=20),\n",
        "    User(id=1, age=25, gender='female', social_contacts=240),\n",
        "    User(id=2, age=25, gender='female', social_contacts=500),\n",
        "    User(id=3, age=33, gender='female', social_contacts=800)\n",
        "]\n",
        "\n",
        "def MAP(_, row:NamedTuple):\n",
        "  if (row.gender == 'female'):\n",
        "    yield (row.age, row)\n",
        "\n",
        "def REDUCE(age:str, rows:Iterator[NamedTuple]):\n",
        "  sum = 0\n",
        "  count = 0\n",
        "  for row in rows:\n",
        "    sum += row.social_contacts\n",
        "    count += 1\n",
        "  if (count > 0):\n",
        "    yield (age, sum/count)\n",
        "  else:\n",
        "    yield (age, 0)\n",
        "\n",
        "def RECORDREADER():\n",
        "  return [(u.id, u) for u in input_collection]\n",
        "\n",
        "output = MapReduce(RECORDREADER, MAP, REDUCE)\n",
        "output = list(output)\n",
        "output"
      ],
      "execution_count": null,
      "outputs": [
        {
          "output_type": "execute_result",
          "data": {
            "text/plain": [
              "[(25, 370.0), (33, 800.0)]"
            ]
          },
          "metadata": {},
          "execution_count": 14
        }
      ]
    },
    {
      "cell_type": "markdown",
      "metadata": {
        "id": "kNKYIeerx0nY"
      },
      "source": [
        "## Matrix-Vector multiplication"
      ]
    },
    {
      "cell_type": "code",
      "metadata": {
        "id": "rwcntRcCyi1V",
        "colab": {
          "base_uri": "https://localhost:8080/"
        },
        "outputId": "5e744345-ceed-49a1-8001-c67985e45c3e"
      },
      "source": [
        "from typing import Iterator\n",
        "import numpy as np\n",
        "\n",
        "mat = np.ones((5,4))\n",
        "vec = np.random.rand(4) # in-memory vector in all map tasks\n",
        "\n",
        "def MAP(coordinates:(int, int), value:int):\n",
        "  i, j = coordinates\n",
        "  yield (i, value*vec[j])\n",
        "\n",
        "def REDUCE(i:int, products:Iterator[NamedTuple]):\n",
        "  sum = 0\n",
        "  for p in products:\n",
        "    sum += p\n",
        "  yield (i, sum)\n",
        "\n",
        "def RECORDREADER():\n",
        "  for i in range(mat.shape[0]):\n",
        "    for j in range(mat.shape[1]):\n",
        "      yield ((i, j), mat[i,j])\n",
        "\n",
        "output = MapReduce(RECORDREADER, MAP, REDUCE)\n",
        "output = list(output)\n",
        "output"
      ],
      "execution_count": null,
      "outputs": [
        {
          "output_type": "execute_result",
          "data": {
            "text/plain": [
              "[(0, 1.6500564705633858),\n",
              " (1, 1.6500564705633858),\n",
              " (2, 1.6500564705633858),\n",
              " (3, 1.6500564705633858),\n",
              " (4, 1.6500564705633858)]"
            ]
          },
          "metadata": {},
          "execution_count": 15
        }
      ]
    },
    {
      "cell_type": "markdown",
      "metadata": {
        "id": "ruZREYdi2o4O"
      },
      "source": [
        "## Inverted index"
      ]
    },
    {
      "cell_type": "code",
      "metadata": {
        "id": "vt9H9Alf3TYv",
        "colab": {
          "base_uri": "https://localhost:8080/"
        },
        "outputId": "5f8e24f9-6b5b-424d-a46a-d2e9f7c604ee"
      },
      "source": [
        "from typing import Iterator\n",
        "\n",
        "d1 = \"it is what it is\"\n",
        "d2 = \"what is it\"\n",
        "d3 = \"it is a banana\"\n",
        "documents = [d1, d2, d3]\n",
        "\n",
        "def RECORDREADER():\n",
        "  for (docid, document) in enumerate(documents):\n",
        "    yield (\"{}\".format(docid), document)\n",
        "\n",
        "def MAP(docId:str, body:str):\n",
        "  for word in set(body.split(' ')):\n",
        "    yield (word, docId)\n",
        "\n",
        "def REDUCE(word:str, docIds:Iterator[str]):\n",
        "  yield (word, sorted(docIds))\n",
        "\n",
        "output = MapReduce(RECORDREADER, MAP, REDUCE)\n",
        "output = list(output)\n",
        "output"
      ],
      "execution_count": null,
      "outputs": [
        {
          "output_type": "execute_result",
          "data": {
            "text/plain": [
              "[('it', ['0', '1', '2']),\n",
              " ('what', ['0', '1']),\n",
              " ('is', ['0', '1', '2']),\n",
              " ('a', ['2']),\n",
              " ('banana', ['2'])]"
            ]
          },
          "metadata": {},
          "execution_count": 16
        }
      ]
    },
    {
      "cell_type": "markdown",
      "metadata": {
        "id": "R7az-6DA6qr2"
      },
      "source": [
        "## WordCount"
      ]
    },
    {
      "cell_type": "code",
      "metadata": {
        "id": "dN-nbtgG6uYG",
        "colab": {
          "base_uri": "https://localhost:8080/"
        },
        "outputId": "8a59f432-572e-439e-998e-fb3722140b16"
      },
      "source": [
        "from typing import Iterator\n",
        "\n",
        "d1 = \"\"\"\n",
        "it is what it is\n",
        "it is what it is\n",
        "it is what it is\"\"\"\n",
        "d2 = \"\"\"\n",
        "what is it\n",
        "what is it\"\"\"\n",
        "d3 = \"\"\"\n",
        "it is a banana\"\"\"\n",
        "documents = [d1, d2, d3]\n",
        "\n",
        "def RECORDREADER():\n",
        "  for (docid, document) in enumerate(documents):\n",
        "    for (lineid, line) in enumerate(document.split('\\n')):\n",
        "      yield (\"{}:{}\".format(docid,lineid), line)\n",
        "\n",
        "def MAP(docId:str, line:str):\n",
        "  for word in line.split(\" \"):\n",
        "    yield (word, 1)\n",
        "\n",
        "def REDUCE(word:str, counts:Iterator[int]):\n",
        "  sum = 0\n",
        "  for c in counts:\n",
        "    sum += c\n",
        "  yield (word, sum)\n",
        "\n",
        "output = MapReduce(RECORDREADER, MAP, REDUCE)\n",
        "output = list(output)\n",
        "output"
      ],
      "execution_count": null,
      "outputs": [
        {
          "output_type": "execute_result",
          "data": {
            "text/plain": [
              "[('', 3), ('it', 9), ('is', 9), ('what', 5), ('a', 1), ('banana', 1)]"
            ]
          },
          "metadata": {},
          "execution_count": 17
        }
      ]
    },
    {
      "cell_type": "markdown",
      "metadata": {
        "id": "h-jRAcYCAkkk"
      },
      "source": [
        "# MapReduce Distributed\n",
        "\n",
        "Добавляется в модель фабрика RECORDREARER-ов --- INPUTFORMAT, функция распределения промежуточных результатов по партициям PARTITIONER, и функция COMBINER для частичной аггрегации промежуточных результатов до распределения по новым партициям."
      ]
    },
    {
      "cell_type": "code",
      "metadata": {
        "id": "nw-b-xJsApgW"
      },
      "source": [
        "def flatten(nested_iterable):\n",
        "  for iterable in nested_iterable:\n",
        "    for element in iterable:\n",
        "      yield element\n",
        "\n",
        "def groupbykey(iterable):\n",
        "  t = {}\n",
        "  for (k2, v2) in iterable:\n",
        "    t[k2] = t.get(k2, []) + [v2]\n",
        "  return t.items()\n",
        "\n",
        "def groupbykey_distributed(map_partitions, PARTITIONER):\n",
        "  global reducers\n",
        "  partitions = [dict() for _ in range(reducers)]\n",
        "  for map_partition in map_partitions:\n",
        "    for (k2, v2) in map_partition:\n",
        "      p = partitions[PARTITIONER(k2)]\n",
        "      p[k2] = p.get(k2, []) + [v2]\n",
        "  return [(partition_id, sorted(partition.items(), key=lambda x: x[0])) for (partition_id, partition) in enumerate(partitions)]\n",
        "\n",
        "def PARTITIONER(obj):\n",
        "  global reducers\n",
        "  return hash(obj) % reducers\n",
        "\n",
        "def MapReduceDistributed(INPUTFORMAT, MAP, REDUCE, PARTITIONER=PARTITIONER, COMBINER=None):\n",
        "  map_partitions = map(lambda record_reader: flatten(map(lambda k1v1: MAP(*k1v1), record_reader)), INPUTFORMAT())\n",
        "  if COMBINER != None:\n",
        "    map_partitions = map(lambda map_partition: flatten(map(lambda k2v2: COMBINER(*k2v2), groupbykey(map_partition))), map_partitions)\n",
        "  reduce_partitions = groupbykey_distributed(map_partitions, PARTITIONER) # shuffle\n",
        "  reduce_outputs = map(lambda reduce_partition: (reduce_partition[0], flatten(map(lambda reduce_input_group: REDUCE(*reduce_input_group), reduce_partition[1]))), reduce_partitions)\n",
        "\n",
        "  print(\"{} key-value pairs were sent over a network.\".format(sum([len(vs) for (k,vs) in flatten([partition for (partition_id, partition) in reduce_partitions])])))\n",
        "  return reduce_outputs"
      ],
      "execution_count": null,
      "outputs": []
    },
    {
      "cell_type": "markdown",
      "metadata": {
        "id": "kxirlf3XqZxY"
      },
      "source": [
        "## Спецификация MapReduce Distributed\n",
        "\n",
        "\n",
        "```\n",
        "f (k1, v1) -> (k2,v2)*\n",
        "g (k2, v2*) -> (k3,v3)*\n",
        "\n",
        "e1 (k1, v1)\n",
        "e2 (k2, v2)\n",
        "partition1 (k2, v2)*\n",
        "partition2 (k2, v2*)*\n",
        "\n",
        "flatmap (e1->e2*, e1*) -> partition1*\n",
        "groupby (partition1*) -> partition2*\n",
        "\n",
        "mapreduce ((k1,v1)*) -> (k3,v3)*\n",
        "mapreduce .flatmap(f).groupby(k2).flatmap(g)\n",
        "```\n",
        "\n"
      ]
    },
    {
      "cell_type": "markdown",
      "metadata": {
        "id": "CWYw_CpbbY3C"
      },
      "source": [
        "## WordCount"
      ]
    },
    {
      "cell_type": "code",
      "metadata": {
        "id": "uR_zfGFkMZlp",
        "colab": {
          "base_uri": "https://localhost:8080/"
        },
        "outputId": "a4421d67-c4ac-4dd0-940b-6602aa3c314e"
      },
      "source": [
        "from typing import Iterator\n",
        "import numpy as np\n",
        "\n",
        "d1 = \"\"\"\n",
        "it is what it is\n",
        "it is what it is\n",
        "it is what it is\"\"\"\n",
        "d2 = \"\"\"\n",
        "what is it\n",
        "what is it\"\"\"\n",
        "d3 = \"\"\"\n",
        "it is a banana\"\"\"\n",
        "documents = [d1, d2, d3, d1, d2, d3]\n",
        "\n",
        "maps = 3\n",
        "reducers = 2\n",
        "\n",
        "def INPUTFORMAT():\n",
        "  global maps\n",
        "\n",
        "  def RECORDREADER(split):\n",
        "    for (docid, document) in enumerate(split):\n",
        "      for (lineid, line) in enumerate(document.split('\\n')):\n",
        "        yield (\"{}:{}\".format(docid,lineid), line)\n",
        "\n",
        "  split_size =  int(np.ceil(len(documents)/maps))\n",
        "  for i in range(0, len(documents), split_size):\n",
        "    yield RECORDREADER(documents[i:i+split_size])\n",
        "\n",
        "def MAP(docId:str, line:str):\n",
        "  for word in line.split(\" \"):\n",
        "    yield (word, 1)\n",
        "\n",
        "def REDUCE(word:str, counts:Iterator[int]):\n",
        "  sum = 0\n",
        "  for c in counts:\n",
        "    sum += c\n",
        "  yield (word, sum)\n",
        "\n",
        "# try to set COMBINER=REDUCER and look at the number of values sent over the network\n",
        "partitioned_output = MapReduceDistributed(INPUTFORMAT, MAP, REDUCE, COMBINER=None)\n",
        "partitioned_output = [(partition_id, list(partition)) for (partition_id, partition) in partitioned_output]\n",
        "partitioned_output"
      ],
      "execution_count": null,
      "outputs": [
        {
          "output_type": "stream",
          "name": "stdout",
          "text": [
            "56 key-value pairs were sent over a network.\n"
          ]
        },
        {
          "output_type": "execute_result",
          "data": {
            "text/plain": [
              "[(0, [('', 6), ('is', 18)]),\n",
              " (1, [('a', 2), ('banana', 2), ('it', 18), ('what', 10)])]"
            ]
          },
          "metadata": {},
          "execution_count": 19
        }
      ]
    },
    {
      "cell_type": "markdown",
      "metadata": {
        "id": "gCJGx8IQ87xS"
      },
      "source": [
        "## TeraSort"
      ]
    },
    {
      "cell_type": "code",
      "metadata": {
        "id": "P2v8v1v_8_YR",
        "colab": {
          "base_uri": "https://localhost:8080/"
        },
        "outputId": "4f3a1f15-dee2-4cec-d96e-fbd58a868596"
      },
      "source": [
        "import numpy as np\n",
        "\n",
        "input_values = np.random.rand(30)\n",
        "maps = 3\n",
        "reducers = 2\n",
        "min_value = 0.0\n",
        "max_value = 1.0\n",
        "\n",
        "def INPUTFORMAT():\n",
        "  global maps\n",
        "\n",
        "  def RECORDREADER(split):\n",
        "    for value in split:\n",
        "        yield (value, None)\n",
        "\n",
        "  split_size =  int(np.ceil(len(input_values)/maps))\n",
        "  for i in range(0, len(input_values), split_size):\n",
        "    yield RECORDREADER(input_values[i:i+split_size])\n",
        "\n",
        "def MAP(value:int, _):\n",
        "  yield (value, None)\n",
        "\n",
        "def PARTITIONER(key):\n",
        "  global reducers\n",
        "  global max_value\n",
        "  global min_value\n",
        "  bucket_size = (max_value-min_value)/reducers\n",
        "  bucket_id = 0\n",
        "  while((key>(bucket_id+1)*bucket_size) and ((bucket_id+1)*bucket_size<max_value)):\n",
        "    bucket_id += 1\n",
        "  return bucket_id\n",
        "\n",
        "def REDUCE(value:int, _):\n",
        "  yield (None,value)\n",
        "\n",
        "partitioned_output = MapReduceDistributed(INPUTFORMAT, MAP, REDUCE, COMBINER=None, PARTITIONER=PARTITIONER)\n",
        "partitioned_output = [(partition_id, list(partition)) for (partition_id, partition) in partitioned_output]\n",
        "partitioned_output"
      ],
      "execution_count": null,
      "outputs": [
        {
          "output_type": "stream",
          "name": "stdout",
          "text": [
            "30 key-value pairs were sent over a network.\n"
          ]
        },
        {
          "output_type": "execute_result",
          "data": {
            "text/plain": [
              "[(0,\n",
              "  [(None, 0.01380404944549063),\n",
              "   (None, 0.0420035283808301),\n",
              "   (None, 0.05048984743504881),\n",
              "   (None, 0.0720116061461542),\n",
              "   (None, 0.18166821760997498),\n",
              "   (None, 0.372268639152215),\n",
              "   (None, 0.3945083996385147),\n",
              "   (None, 0.46147074709175107),\n",
              "   (None, 0.4673321167189727),\n",
              "   (None, 0.47789719658939867)]),\n",
              " (1,\n",
              "  [(None, 0.5000927697799361),\n",
              "   (None, 0.5156020758160723),\n",
              "   (None, 0.5285731731758888),\n",
              "   (None, 0.5403205975688228),\n",
              "   (None, 0.5625874706836916),\n",
              "   (None, 0.5716005794863274),\n",
              "   (None, 0.6241138743415167),\n",
              "   (None, 0.6401266727766555),\n",
              "   (None, 0.654488638215727),\n",
              "   (None, 0.6594331463548921),\n",
              "   (None, 0.725989958745338),\n",
              "   (None, 0.7283533405916632),\n",
              "   (None, 0.7763758667198886),\n",
              "   (None, 0.7975893288704843),\n",
              "   (None, 0.8281815634359294),\n",
              "   (None, 0.8292800314336081),\n",
              "   (None, 0.8394004816516888),\n",
              "   (None, 0.9598570245228041),\n",
              "   (None, 0.9630396467470939),\n",
              "   (None, 0.9738376020359816)])]"
            ]
          },
          "metadata": {},
          "execution_count": 20
        }
      ]
    },
    {
      "cell_type": "code",
      "metadata": {
        "id": "MQhoJaVZI93G"
      },
      "source": [],
      "execution_count": null,
      "outputs": []
    },
    {
      "cell_type": "markdown",
      "metadata": {
        "id": "Iy65YJTH99iT"
      },
      "source": [
        "# Упражнения\n",
        "Упражнения взяты из Rajaraman A., Ullman J. D. Mining of massive datasets. – Cambridge University Press, 2011.\n",
        "\n",
        "\n",
        "Для выполнения заданий переопределите функции RECORDREADER, MAP, REDUCE. Для модели распределённой системы может потребоваться переопределение функций PARTITION и COMBINER."
      ]
    },
    {
      "cell_type": "markdown",
      "metadata": {
        "id": "cfvAeZm3S8S8"
      },
      "source": [
        "### Максимальное значение ряда\n",
        "\n",
        "Разработайте MapReduce алгоритм, который находит максимальное число входного списка чисел."
      ]
    },
    {
      "cell_type": "code",
      "metadata": {
        "id": "3GRA1JR-Tkbg",
        "outputId": "08841df9-9ddc-445b-eaf9-15a9e4a4a9eb",
        "colab": {
          "base_uri": "https://localhost:8080/"
        }
      },
      "source": [
        "import numpy as np\n",
        "\n",
        "# Генерируем 30 случайных чисел от 0 до 1\n",
        "values = np.random.random(30)\n",
        "print(\"Исходный список чисел:\", values)\n",
        "\n",
        "# Функция, которая передаёт числа в виде (ключ, значение)\n",
        "def RECORDREADER():\n",
        "    for num in values:\n",
        "        yield (None, num)  # Ключ остаётся фиксированным для группировки\n",
        "\n",
        "# Функция MAP\n",
        "def MAP(_, num):\n",
        "    \"\"\"Каждое число маппится на один ключ (None).\"\"\"\n",
        "    yield (None, num)\n",
        "\n",
        "# Функция REDUCE\n",
        "def REDUCE(_, num_list):\n",
        "    \"\"\"Определяем максимальное значение в списке.\"\"\"\n",
        "    yield (None, max(num_list))\n",
        "\n",
        "# Выполнение MapReduce\n",
        "result = list(MapReduce(RECORDREADER, MAP, REDUCE))\n",
        "\n",
        "# Выводим результат\n",
        "print(\"Максимальное значение:\", result[0][1])"
      ],
      "execution_count": null,
      "outputs": [
        {
          "output_type": "stream",
          "name": "stdout",
          "text": [
            "Исходный список чисел: [0.25464065 0.68150272 0.76022786 0.59563874 0.47157619 0.41184091\n",
            " 0.34886827 0.92952914 0.83061941 0.96502691 0.12429722 0.73086748\n",
            " 0.93834046 0.18123307 0.06649627 0.74112065 0.57447311 0.84182878\n",
            " 0.13977238 0.79526731 0.20162732 0.16365594 0.1642658  0.81457472\n",
            " 0.66519722 0.52306542 0.35883048 0.87720054 0.39244511 0.81659944]\n",
            "Максимальное значение: 0.9650269106665126\n"
          ]
        }
      ]
    },
    {
      "cell_type": "markdown",
      "metadata": {
        "id": "k86bXnqZTk-U"
      },
      "source": [
        "### Арифметическое среднее\n",
        "\n",
        "Разработайте MapReduce алгоритм, который находит арифметическое среднее.\n",
        "\n",
        "$$\\overline{X} = \\frac{1}{n}\\sum_{i=0}^{n} x_i$$\n"
      ]
    },
    {
      "cell_type": "code",
      "metadata": {
        "id": "MPoY5pkfUNZf",
        "outputId": "b1de6db2-73ec-4e03-bd95-bb7c5769e9bc",
        "colab": {
          "base_uri": "https://localhost:8080/"
        }
      },
      "source": [
        "\n",
        "import numpy as np\n",
        "\n",
        "# Генерируем 100 случайных чисел от 0 до 1\n",
        "input_values = np.random.rand(100)\n",
        "print(\"Исходный список чисел:\", input_values)\n",
        "\n",
        "# Функция, которая передаёт числа в виде (ключ, значение)\n",
        "def RECORDREADER():\n",
        "    for value in input_values:\n",
        "        yield (None, value)  # Ключ фиксированный, чтобы все значения группировались вместе\n",
        "\n",
        "# Функция MAP\n",
        "def MAP(_, value):\n",
        "    \"\"\"Каждое число маппится на один ключ (None).\"\"\"\n",
        "    yield (None, value)\n",
        "\n",
        "# Функция REDUCE\n",
        "def REDUCE(_, values):\n",
        "    \"\"\"Вычисляет среднее значение из списка чисел.\"\"\"\n",
        "    yield (None, sum(values) / len(values))\n",
        "\n",
        "# Выполнение MapReduce\n",
        "average_value_output = list(MapReduce(RECORDREADER, MAP, REDUCE))\n",
        "\n",
        "# Выводим результат\n",
        "print(\"Среднее значение:\", average_value_output[0][1])"
      ],
      "execution_count": null,
      "outputs": [
        {
          "output_type": "stream",
          "name": "stdout",
          "text": [
            "Исходный список чисел: [0.96819343 0.18552552 0.86862317 0.77659685 0.77092184 0.84478323\n",
            " 0.76102399 0.62622032 0.13124488 0.03252618 0.92084785 0.61665031\n",
            " 0.79653729 0.48152235 0.11730819 0.12518579 0.68556529 0.43030589\n",
            " 0.20052473 0.49159455 0.06420894 0.5819714  0.2689934  0.7975591\n",
            " 0.31036196 0.45522015 0.01162054 0.07244689 0.39249356 0.47993883\n",
            " 0.60002055 0.29166258 0.69498189 0.8601224  0.77985099 0.03961883\n",
            " 0.48050695 0.10493018 0.24204502 0.98666259 0.14249554 0.49888815\n",
            " 0.61815573 0.70246497 0.55964868 0.00977085 0.32646131 0.51771164\n",
            " 0.0878665  0.35062693 0.03320311 0.0785785  0.39692328 0.13271575\n",
            " 0.56754085 0.68946497 0.8005867  0.20015024 0.16748258 0.10456784\n",
            " 0.63643025 0.70647573 0.03158614 0.93621225 0.05197128 0.54129634\n",
            " 0.70906052 0.87096912 0.71408693 0.80172808 0.33945019 0.81482511\n",
            " 0.08011485 0.89481666 0.54759238 0.81729777 0.45231828 0.6435777\n",
            " 0.52640266 0.73158952 0.08162998 0.06035208 0.24710323 0.15954468\n",
            " 0.87178357 0.21921399 0.97586526 0.33689579 0.18211792 0.78969851\n",
            " 0.65870778 0.49819572 0.55536355 0.71920178 0.22845474 0.99633392\n",
            " 0.97479316 0.65032569 0.19954245 0.68022824]\n",
            "Среднее значение: 0.4826537629879195\n"
          ]
        }
      ]
    },
    {
      "cell_type": "markdown",
      "metadata": {
        "id": "xanzszhsIlLe"
      },
      "source": [
        "### GroupByKey на основе сортировки\n",
        "\n",
        "Реализуйте groupByKey на основе сортировки, проверьте его работу на примерах"
      ]
    },
    {
      "cell_type": "code",
      "metadata": {
        "id": "hQPn3USsIkEC",
        "outputId": "cde0f75e-d3f6-45b7-f542-888bf037b97e",
        "colab": {
          "base_uri": "https://localhost:8080/"
        }
      },
      "source": [
        "def group_by_key_sorted(data):\n",
        "    \"\"\"Группирует пары (ключ, значение) по ключу, используя сортировку.\"\"\"\n",
        "    sorted_data = sorted(data, key=lambda pair: pair[0])  # Сортируем по ключу\n",
        "    grouped_result = []\n",
        "\n",
        "    active_key, value_group = sorted_data[0][0], []  # Первый ключ\n",
        "    for k, v in sorted_data:\n",
        "        if k == active_key:\n",
        "            value_group.append(v)  # Добавляем значение в текущую группу\n",
        "        else:\n",
        "            grouped_result.append((active_key, value_group))  # Сохраняем старую группу\n",
        "            active_key, value_group = k, [v]  # Начинаем новую группу\n",
        "\n",
        "    grouped_result.append((active_key, value_group))  # Добавляем последнюю группу\n",
        "    return grouped_result\n",
        "\n",
        "# Пример работы\n",
        "sample_data = [\n",
        "    (\"a\", 1), (\"b\", 2), (\"a\", 3), (\"b\", 4), (\"c\", 5), (\"a\", 6)\n",
        "]\n",
        "\n",
        "grouped_output = group_by_key_sorted(sample_data)\n",
        "print(grouped_output)\n"
      ],
      "execution_count": null,
      "outputs": [
        {
          "output_type": "stream",
          "name": "stdout",
          "text": [
            "[('a', [1, 3, 6]), ('b', [2, 4]), ('c', [5])]\n"
          ]
        }
      ]
    },
    {
      "cell_type": "markdown",
      "metadata": {
        "id": "5SgEjCZyGnu6"
      },
      "source": [
        "### Drop duplicates (set construction, unique elements, distinct)\n",
        "\n",
        "Реализуйте распределённую операцию исключения дубликатов"
      ]
    },
    {
      "cell_type": "code",
      "metadata": {
        "id": "okjbyApjGhMt",
        "outputId": "2854acc0-7264-4704-df9b-ed7f7b249903",
        "colab": {
          "base_uri": "https://localhost:8080/"
        }
      },
      "source": [
        "from itertools import chain\n",
        "\n",
        "reducers = 2  # Количество редьюсеров\n",
        "\n",
        "def INPUTFORMAT():\n",
        "    global maps\n",
        "    data_entries = [\"apple\", \"banana\", \"apple\", \"orange\", \"banana\", \"grape\", \"grape\", \"apple\"]\n",
        "\n",
        "    def RECORDREADER(chunk):\n",
        "        for item in chunk:\n",
        "            yield (item, None)  # Формат (значение, None)\n",
        "\n",
        "    chunk_size = max(1, len(data_entries) // maps)\n",
        "    for i in range(0, len(data_entries), chunk_size):\n",
        "        yield RECORDREADER(data_entries[i:i+chunk_size])\n",
        "\n",
        "def MAP(item, _):\n",
        "    yield (item, None)  # Просто передаем ключ, значение не важно\n",
        "\n",
        "def PARTITIONER(key):\n",
        "    global reducers\n",
        "    return hash(key) % reducers  # Определяет, какой редьюсер обработает ключ\n",
        "\n",
        "def REDUCE(item, _):\n",
        "    yield (item, None)  # Возвращаем только одно значение\n",
        "\n",
        "maps = 2  # Количество мапперов\n",
        "unique_values_output = MapReduceDistributed(INPUTFORMAT, MAP, REDUCE, PARTITIONER)\n",
        "\n",
        "# Преобразуем результат в удобный формат\n",
        "unique_values_output = [word for (_, partition) in unique_values_output for (word, _) in partition]\n",
        "print(\"Unique values:\", unique_values_output)  # Ожидаем ['apple', 'banana', 'orange', 'grape']\n"
      ],
      "execution_count": null,
      "outputs": [
        {
          "output_type": "stream",
          "name": "stdout",
          "text": [
            "8 key-value pairs were sent over a network.\n",
            "Unique values: ['apple', 'orange', 'banana', 'grape']\n"
          ]
        }
      ]
    },
    {
      "cell_type": "markdown",
      "metadata": {
        "id": "e7sRGoTXuJze"
      },
      "source": [
        "#Операторы реляционной алгебры\n",
        "### Selection (Выборка)\n",
        "\n",
        "**The Map Function**: Для  каждого кортежа $t \\in R$ вычисляется истинность предиката $C$. В случае истины создаётся пара ключ-значение $(t, t)$. В паре ключ и значение одинаковы, равны $t$.\n",
        "\n",
        "**The Reduce Function:** Роль функции Reduce выполняет функция идентичности, которая возвращает то же значение, что получила на вход.\n",
        "\n"
      ]
    },
    {
      "cell_type": "code",
      "metadata": {
        "id": "4nKIKe59uIfc",
        "outputId": "651ff42f-6478-4a1a-b413-07a6c4a1181c",
        "colab": {
          "base_uri": "https://localhost:8080/"
        }
      },
      "source": [
        "\n",
        "def C(t):\n",
        "    \"\"\"Проверяет, делится ли сумма элементов кортежа на 2 без остатка.\"\"\"\n",
        "    return (t[0] + t[1]) % 2 == 0\n",
        "\n",
        "def RECORDREADER():\n",
        "    \"\"\"Генерирует кортежи из заданного набора данных.\"\"\"\n",
        "    data_samples = [(0, 2), (6, 1), (5, 5)]\n",
        "    for pair in data_samples:\n",
        "        yield (pair, None)  # Фиксированный ключ для обработки MapReduce\n",
        "\n",
        "def MAP(pair, _):\n",
        "    \"\"\"Применяет предикат к элементу и передает его в Reduce, если условие выполняется.\"\"\"\n",
        "    if C(pair):\n",
        "        yield (pair, pair)  # Ключ и значение равны отобранному элементу\n",
        "\n",
        "def REDUCE(_, selected_values):\n",
        "    \"\"\"Функция идентичности — возвращает полученные значения.\"\"\"\n",
        "    yield from selected_values\n",
        "\n",
        "# Запуск MapReduce\n",
        "filtered_tuples = list(MapReduce(RECORDREADER, MAP, REDUCE))\n",
        "\n",
        "# Вывод результата\n",
        "print(\"Кортежи, удовлетворяющие условию:\", filtered_tuples)\n"
      ],
      "execution_count": null,
      "outputs": [
        {
          "output_type": "stream",
          "name": "stdout",
          "text": [
            "Кортежи, удовлетворяющие условию: [(0, 2), (5, 5)]\n"
          ]
        }
      ]
    },
    {
      "cell_type": "markdown",
      "metadata": {
        "id": "w27Ca-_Ku85V"
      },
      "source": [
        "### Projection (Проекция)\n",
        "\n",
        "Проекция на множество атрибутов $S$.\n",
        "\n",
        "**The Map Function:** Для каждого кортежа $t \\in R$ создайте кортеж $t′$, исключая  из $t$ те значения, атрибуты которых не принадлежат  $S$. Верните пару $(t′, t′)$.\n",
        "\n",
        "**The Reduce Function:** Для каждого ключа $t′$, созданного любой Map задачей, вы получаете одну или несколько пар $(t′, t′)$. Reduce функция преобразует $(t′, [t′, t′, . . . , t′])$ в $(t′, t′)$, так, что для ключа $t′$ возвращается одна пара  $(t′, t′)$."
      ]
    },
    {
      "cell_type": "code",
      "metadata": {
        "id": "BEvuY4GqvhS6",
        "outputId": "bca3e504-509d-443f-f1d5-43920f248da1",
        "colab": {
          "base_uri": "https://localhost:8080/"
        }
      },
      "source": [
        "S = {1, 5, 10}  # Оставляем только эти атрибуты\n",
        "\n",
        "def MAP(t, _):\n",
        "    \"\"\"Фильтруем атрибуты, оставляя только нужные.\"\"\"\n",
        "    filtered_data = {key: value for key, value in t.items() if key in S}\n",
        "    sorted_key = tuple(sorted(filtered_data.items()))  # Делаем ключ детерминированным\n",
        "    yield (sorted_key, sorted_key)  # Пара (t', t')\n",
        "\n",
        "def REDUCE(_, unique_values):\n",
        "    \"\"\"Удаляем дубликаты, оставляя один экземпляр.\"\"\"\n",
        "    yield unique_values[0]  # Берём первое значение\n",
        "\n",
        "def RECORDREADER():\n",
        "    \"\"\"Генерация входных данных.\"\"\"\n",
        "    yield ({1: \"apple\", 2: \"banana\", 5: \"grape\"}, None)\n",
        "    yield ({1: \"orange\", 3: \"pear\", 10: \"kiwi\"}, None)\n",
        "    yield ({5: \"melon\", 7: \"cherry\", 10: \"mango\"}, None)\n",
        "\n",
        "# Запуск MapReduce\n",
        "filtered_result = list(MapReduce(RECORDREADER, MAP, REDUCE))\n",
        "\n",
        "# Вывод результата\n",
        "print(\"Проекция по выбранным атрибутам:\", filtered_result)\n"
      ],
      "execution_count": null,
      "outputs": [
        {
          "output_type": "stream",
          "name": "stdout",
          "text": [
            "Проекция по выбранным атрибутам: [((1, 'apple'), (5, 'grape')), ((1, 'orange'), (10, 'kiwi')), ((5, 'melon'), (10, 'mango'))]\n"
          ]
        }
      ]
    },
    {
      "cell_type": "markdown",
      "metadata": {
        "id": "7gau6lKXvn2R"
      },
      "source": [
        "### Union (Объединение)\n",
        "\n",
        "**The Map Function:** Превратите каждый входной кортеж $t$ в пару ключ-значение $(t, t)$.\n",
        "\n",
        "**The Reduce Function:** С каждым ключом $t$ будет ассоциировано одно или два значений. В обоих случаях создайте $(t, t)$ в качестве выходного значения."
      ]
    },
    {
      "cell_type": "code",
      "metadata": {
        "id": "Sns7a5agv3nw",
        "outputId": "384ba704-40a1-4990-a9db-a4a74f31ff00",
        "colab": {
          "base_uri": "https://localhost:8080/"
        }
      },
      "source": [
        "def MAP(t, _):\n",
        "    \"\"\"Каждый входной элемент преобразуется в пару (element, element).\"\"\"\n",
        "    yield (t, t)\n",
        "\n",
        "def REDUCE(t, grouped_values):\n",
        "    \"\"\"Удаляет дубликаты и возвращает (element, element).\"\"\"\n",
        "    yield (t, t)  # Значения уже сгруппированы, просто оставляем один экземпляр\n",
        "\n",
        "def RECORDREADER():\n",
        "    \"\"\"Имитация объединения двух множеств.\"\"\"\n",
        "    first_set = [(1, None), (2, None), (3, None)]\n",
        "    second_set = [(2, None), (4, None), (5, None)]\n",
        "    return first_set + second_set  # Объединяем два множества\n",
        "\n",
        "# Запуск MapReduce\n",
        "merged_set = list(MapReduce(RECORDREADER, MAP, REDUCE))\n",
        "\n",
        "# Вывод результата\n",
        "print(\"Объединенное множество:\", merged_set)\n",
        "\n"
      ],
      "execution_count": null,
      "outputs": [
        {
          "output_type": "stream",
          "name": "stdout",
          "text": [
            "Объединенное множество: [(1, 1), (2, 2), (3, 3), (4, 4), (5, 5)]\n"
          ]
        }
      ]
    },
    {
      "cell_type": "markdown",
      "metadata": {
        "id": "dQ8TuEbjv4J8"
      },
      "source": [
        "### Intersection (Пересечение)\n",
        "\n",
        "**The Map Function:** Превратите каждый кортеж $t$ в пары ключ-значение $(t, t)$.\n",
        "\n",
        "**The Reduce Function:** Если для ключа $t$ есть список из двух элементов $[t, t]$ $-$ создайте пару $(t, t)$. Иначе, ничего не создавайте."
      ]
    },
    {
      "cell_type": "code",
      "metadata": {
        "id": "XKlBZh4IwERR",
        "outputId": "f93fcdd2-3078-4ac8-cb6a-67cd32e4d72e",
        "colab": {
          "base_uri": "https://localhost:8080/"
        }
      },
      "source": [
        "def MAP(t, _):\n",
        "    \"\"\"Каждый входной элемент преобразуется в пару (element, element).\"\"\"\n",
        "    yield (t, t)\n",
        "\n",
        "def REDUCE(t, occurrences):\n",
        "    \"\"\"Если элемент встречается дважды (в обоих множествах), добавляем его в результат.\"\"\"\n",
        "    if len(occurrences) == 2:\n",
        "        yield (t, t)\n",
        "\n",
        "def RECORDREADER():\n",
        "    \"\"\"Имитация пересечения двух множеств: {1, 2, 3, 4} и {2, 3, 5, 6}.\"\"\"\n",
        "    first_set = [(1, None), (2, None), (3, None), (4, None)]\n",
        "    second_set = [(2, None), (3, None), (5, None), (6, None)]\n",
        "    return first_set + second_set  # Объединяем данные перед MapReduce\n",
        "\n",
        "# Запуск MapReduce\n",
        "intersection_result = list(MapReduce(RECORDREADER, MAP, REDUCE))\n",
        "\n",
        "# Вывод результата\n",
        "print(\"Пересечение множеств:\", intersection_result)\n"
      ],
      "execution_count": null,
      "outputs": [
        {
          "output_type": "stream",
          "name": "stdout",
          "text": [
            "Пересечение множеств: [(2, 2), (3, 3)]\n"
          ]
        }
      ]
    },
    {
      "cell_type": "markdown",
      "metadata": {
        "id": "AVOpqoY3wE5k"
      },
      "source": [
        "### Difference (Разница)\n",
        "\n",
        "**The Map Function:** Для кортежа $t \\in R$, создайте пару $(t, R)$, и для кортежа $t \\in S$, создайте пару $(t, S)$. Задумка заключается в том, чтобы значение пары было именем отношения $R$ or $S$, которому принадлежит кортеж (а лучше, единичный бит, по которому можно два отношения различить $R$ or $S$), а не весь набор атрибутов отношения.\n",
        "\n",
        "**The Reduce Function:** Для каждого ключа $t$, если соответствующее значение является списком $[R]$, создайте пару $(t, t)$. В иных случаях не предпринимайте действий."
      ]
    },
    {
      "cell_type": "code",
      "metadata": {
        "id": "QE_AC09lwZIZ",
        "outputId": "4dc3f611-511f-457b-a9ec-503b60609e26",
        "colab": {
          "base_uri": "https://localhost:8080/"
        }
      },
      "source": [
        "\n",
        "def MAP(t, source):\n",
        "    \"\"\"Помечаем каждый элемент его источником (R или S).\"\"\"\n",
        "    yield (t, source)\n",
        "\n",
        "def REDUCE(t, sources):\n",
        "    \"\"\"Добавляем элемент в результат, если он присутствует только в R.\"\"\"\n",
        "    if sources == [\"R\"]:  # Если элемент встречается только в R\n",
        "        yield (t, t)\n",
        "\n",
        "def RECORDREADER():\n",
        "    \"\"\"Определяем два множества: R и S.\"\"\"\n",
        "    R = [(1, \"R\"), (2, \"R\"), (3, \"R\"), (4, \"R\")]  # Множество R\n",
        "    S = [(2, \"S\"), (3, \"S\"), (5, \"S\"), (6, \"S\")]  # Множество S\n",
        "    return R + S  # Объединяем для обработки\n",
        "\n",
        "# Запуск MapReduce\n",
        "difference_result = list(MapReduce(RECORDREADER, MAP, REDUCE))\n",
        "\n",
        "# Вывод результата\n",
        "print(\"Разность R - S:\", difference_result)\n",
        "\n"
      ],
      "execution_count": null,
      "outputs": [
        {
          "output_type": "stream",
          "name": "stdout",
          "text": [
            "Разность R - S: [(1, 1), (4, 4)]\n"
          ]
        }
      ]
    },
    {
      "cell_type": "markdown",
      "metadata": {
        "id": "j8I58V2VwhSm"
      },
      "source": [
        "### Natural Join\n",
        "\n",
        "**The Map Function:** Для каждого кортежа $(a, b)$ отношения $R$, создайте пару $(b,(R, a))$. Для каждого кортежа $(b, c)$ отношения $S$, создайте пару $(b,(S, c))$.\n",
        "\n",
        "**The Reduce Function:** Каждый ключ $b$ будет асоциирован со списком пар, которые принимают форму либо $(R, a)$, либо $(S, c)$. Создайте все пары, одни, состоящие из  первого компонента $R$, а другие, из первого компонента $S$, то есть $(R, a)$ и $(S, c)$. На выходе вы получаете последовательность пар ключ-значение из списков ключей и значений. Ключ не нужен. Каждое значение, это тройка $(a, b, c)$ такая, что $(R, a)$ и $(S, c)$ это принадлежат входному списку значений."
      ]
    },
    {
      "cell_type": "code",
      "metadata": {
        "id": "yHiuuTctw86I",
        "outputId": "daca19f2-0ce8-431a-96b7-39de67005c9a",
        "colab": {
          "base_uri": "https://localhost:8080/"
        }
      },
      "source": [
        "def MAP(record, source):\n",
        "    \"\"\"Формирует пары (b, (источник, значение)) для выполнения соединения.\"\"\"\n",
        "    if source == \"R\":\n",
        "        a, b = record\n",
        "        yield (b, (\"R\", a))\n",
        "    elif source == \"S\":\n",
        "        b, c = record\n",
        "        yield (b, (\"S\", c))\n",
        "\n",
        "def REDUCE(b, pairs):\n",
        "    \"\"\"Создает кортежи (a, b, c) для всех подходящих соединений.\"\"\"\n",
        "    r_group = [a for src, a in pairs if src == \"R\"]\n",
        "    s_group = [c for src, c in pairs if src == \"S\"]\n",
        "\n",
        "    for a in r_group:\n",
        "        for c in s_group:\n",
        "            yield (a, b, c)  # Оставляем b для наглядности\n",
        "\n",
        "def RECORDREADER():\n",
        "    \"\"\"Исходные данные для соединения: R(a, b) и S(b, c).\"\"\"\n",
        "    R = [(\"A\", 1), (\"B\", 2), (\"C\", 3)]  # (a, b)\n",
        "    S = [(1, \"apple\"), (2, \"banana\"), (3, \"cherry\")]  # (b, c)\n",
        "    return [(r, \"R\") for r in R] + [(s, \"S\") for s in S]\n",
        "\n",
        "# Запуск MapReduce\n",
        "join_result = list(MapReduce(RECORDREADER, MAP, REDUCE))\n",
        "\n",
        "# Вывод результата\n",
        "print(\"Natural Join:\", join_result)\n"
      ],
      "execution_count": null,
      "outputs": [
        {
          "output_type": "stream",
          "name": "stdout",
          "text": [
            "Natural Join: [('A', 1, 'apple'), ('B', 2, 'banana'), ('C', 3, 'cherry')]\n"
          ]
        }
      ]
    },
    {
      "cell_type": "markdown",
      "metadata": {
        "id": "kYdlr0YUxE27"
      },
      "source": [
        "### Grouping and Aggregation (Группировка и аггрегация)\n",
        "\n",
        "**The Map Function:** Для каждого кортежа $(a, b, c$) создайте пару $(a, b)$.\n",
        "\n",
        "**The Reduce Function:** Ключ представляет ту или иную группу. Примение аггрегирующую операцию $\\theta$ к списку значений $[b1, b2, . . . , bn]$ ассоциированных с ключом $a$. Возвращайте в выходной поток $(a, x)$, где $x$ результат применения  $\\theta$ к списку. Например, если $\\theta$ это $SUM$, тогда $x = b1 + b2 + · · · + bn$, а если $\\theta$ is $MAX$, тогда $x$ это максимальное из значений $b1, b2, . . . , bn$."
      ]
    },
    {
      "cell_type": "code",
      "metadata": {
        "id": "MLPckfEGxico",
        "outputId": "aa82b938-de54-480a-b2ce-f8a0ec07b7b4",
        "colab": {
          "base_uri": "https://localhost:8080/"
        }
      },
      "source": [
        "from collections import defaultdict\n",
        "from typing import Callable, List, Tuple\n",
        "\n",
        "def MAP(a, b, _):\n",
        "    \"\"\"Формируем (ключ, значение для агрегации).\"\"\"\n",
        "    yield (a, b)\n",
        "\n",
        "def REDUCE(a, values, aggregation_function: Callable[[List[int]], int]):\n",
        "    \"\"\"Применяем агрегирующую функцию и выдаем (ключ, агрегированное значение).\"\"\"\n",
        "    yield (a, aggregation_function(values))\n",
        "\n",
        "def RECORDREADER():\n",
        "    \"\"\"Пример входных данных (a, b, c).\"\"\"\n",
        "    return [(1, 10, \"x\"), (2, 20, \"y\"), (1, 15, \"z\"), (2, 25, \"w\"), (3, 30, \"v\")]\n",
        "\n",
        "def shuffle_phase(mapped_data: List[Tuple[int, int]]) -> dict:\n",
        "    \"\"\"Группируем значения по ключу.\"\"\"\n",
        "    grouped = defaultdict(list)\n",
        "    for k, v in mapped_data:\n",
        "        grouped[k].append(v)\n",
        "    return grouped\n",
        "\n",
        "def MapReduce(recordreader, map_func, reduce_func, aggregation_function):\n",
        "    \"\"\"Общая логика MapReduce.\"\"\"\n",
        "    records = recordreader()\n",
        "\n",
        "    # MAP\n",
        "    mapped_data = []\n",
        "    for record in records:\n",
        "        mapped_data.extend(map_func(*record))  # Распаковываем кортежи\n",
        "\n",
        "    # SHUFFLE\n",
        "    grouped_data = shuffle_phase(mapped_data)\n",
        "\n",
        "    # REDUCE\n",
        "    reduced_data = []\n",
        "    for key, values in grouped_data.items():\n",
        "        reduced_data.extend(reduce_func(key, values, aggregation_function))\n",
        "\n",
        "    return reduced_data\n",
        "\n",
        "# Агрегация с использованием SUM\n",
        "print(\"SUM Aggregation:\", MapReduce(RECORDREADER, MAP, REDUCE, sum))\n",
        "\n",
        "# Агрегация с использованием MAX\n",
        "print(\"MAX Aggregation:\", MapReduce(RECORDREADER, MAP, REDUCE, max))\n"
      ],
      "execution_count": null,
      "outputs": [
        {
          "output_type": "stream",
          "name": "stdout",
          "text": [
            "SUM Aggregation: [(1, 25), (2, 45), (3, 30)]\n",
            "MAX Aggregation: [(1, 15), (2, 25), (3, 30)]\n"
          ]
        }
      ]
    },
    {
      "cell_type": "markdown",
      "metadata": {
        "id": "03IffTEOJgOb"
      },
      "source": [
        "#"
      ]
    },
    {
      "cell_type": "markdown",
      "metadata": {
        "id": "IIrRgvG4RIS4"
      },
      "source": [
        "### Matrix-Vector multiplication\n",
        "\n",
        "Случай, когда вектор не помещается в памяти Map задачи\n"
      ]
    },
    {
      "cell_type": "code",
      "metadata": {
        "id": "KQhDbiL3zS9r",
        "outputId": "250bde86-17a0-4e08-a95b-a0c4a81cf915",
        "colab": {
          "base_uri": "https://localhost:8080/"
        }
      },
      "source": [
        "from typing import List, Tuple, Dict, NamedTuple\n",
        "from collections import defaultdict, namedtuple\n",
        "\n",
        "NUM_REDUCERS = 2  # Количество редукторов\n",
        "CHUNK_SIZE = 2  # Размер чанка вектора\n",
        "\n",
        "# Функция отображения для матрицы\n",
        "def map_matrix(row: NamedTuple) -> Tuple[int, Tuple[str, NamedTuple]]:\n",
        "    return row.col % NUM_REDUCERS, ('M', row)\n",
        "\n",
        "# Функция отображения для вектора (разбитого на чанки)\n",
        "def map_vector(vector_chunk: List[NamedTuple]) -> List[Tuple[int, Tuple[str, NamedTuple]]]:\n",
        "    return [(element.index % NUM_REDUCERS, ('V', element)) for element in vector_chunk]\n",
        "\n",
        "# Функция редукции (умножение части матрицы на соответствующую часть вектора)\n",
        "def reduce_partial(reducer_id: int, values: List[Tuple[str, NamedTuple]]) -> List[Tuple[int, float]]:\n",
        "    matrix_part, vector_part = [], []\n",
        "    for tag, record in values:\n",
        "        (matrix_part if tag == 'M' else vector_part).append(record)\n",
        "\n",
        "    return [(row.row, row.value * element.value) for row in matrix_part for element in vector_part if row.col == element.index]\n",
        "\n",
        "# Функция группировки значений по редукторам\n",
        "def shuffle(mapped_data: List[Tuple[int, Tuple[str, NamedTuple]]]) -> Dict[int, List[Tuple[str, NamedTuple]]]:\n",
        "    grouped = defaultdict(list)\n",
        "    for reducer_id, pair in mapped_data:\n",
        "        grouped[reducer_id].append(pair)\n",
        "    return grouped\n",
        "\n",
        "# Функция финальной агрегации (складывает частичные произведения)\n",
        "def aggregate(partial_results: List[Tuple[int, float]]) -> Dict[int, float]:\n",
        "    aggregated_result = defaultdict(float)\n",
        "    for row, value in partial_results:\n",
        "        aggregated_result[row] += value\n",
        "    return aggregated_result\n",
        "\n",
        "# Чтение данных из матрицы\n",
        "def read_matrix(matrix: List[NamedTuple]) -> List[Tuple[str, NamedTuple]]:\n",
        "    return [('M', row) for row in matrix]\n",
        "\n",
        "# Разбиение вектора на чанки\n",
        "def read_vector(vector: List[NamedTuple]) -> List[List[NamedTuple]]:\n",
        "    return [vector[i:i + CHUNK_SIZE] for i in range(0, len(vector), CHUNK_SIZE)]\n",
        "\n",
        "# Основная функция MapReduce\n",
        "def map_reduce(matrix, vector):\n",
        "    mapped_matrix = [map_matrix(row) for _, row in read_matrix(matrix)]\n",
        "    mapped_vector = [pair for chunk in read_vector(vector) for pair in map_vector(chunk)]\n",
        "    grouped_data = shuffle(mapped_matrix + mapped_vector)\n",
        "    partial_results = [res for reducer_id, values in grouped_data.items() for res in reduce_partial(reducer_id, values)]\n",
        "    return aggregate(partial_results)\n",
        "\n",
        "Row = namedtuple('Row', ['row', 'col', 'value'])\n",
        "VectorElement = namedtuple('VectorElement', ['index', 'value'])\n",
        "\n",
        "matrix = [Row(0, 0, 1.0), Row(0, 1, 2.0), Row(1, 0, 3.0), Row(1, 1, 4.0)]\n",
        "vector = [VectorElement(0, 0.5), VectorElement(1, 0.7)]\n",
        "\n",
        "result = map_reduce(matrix, vector)\n",
        "print(\"Matrix-Vector Multiplication Result:\", result)\n"
      ],
      "execution_count": null,
      "outputs": [
        {
          "output_type": "stream",
          "name": "stdout",
          "text": [
            "Matrix-Vector Multiplication Result: defaultdict(<class 'float'>, {0: 1.9, 1: 4.3})\n"
          ]
        }
      ]
    },
    {
      "cell_type": "markdown",
      "metadata": {
        "id": "GIo2t7nNxvA9"
      },
      "source": [
        "## Matrix multiplication (Перемножение матриц)\n",
        "\n",
        "Если у нас есть матрица $M$ с элементами $m_{ij}$ в строке $i$ и столбце $j$, и матрица $N$ с элементами $n_{jk}$ в строке $j$ и столбце $k$, тогда их произведение $P = MN$ есть матрица $P$ с элементами $p_{ik}$ в строке $i$ и столбце $k$, где\n",
        "\n",
        "$$p_{ik} =\\sum_{j} m_{ij}n_{jk}$$\n",
        "\n",
        "Необходимым требованием является одинаковое количество столбцов в $M$ и строк в $N$, чтобы операция суммирования по  $j$ была осмысленной. Мы можем размышлять о матрице, как об отношении с тремя атрибутами: номер строки, номер столбца, само значение. Таким образом матрица $M$ предстваляется как отношение $ M(I, J, V )$, с кортежами $(i, j, m_{ij})$, и, аналогично, матрица $N$ представляется как отношение $N(J, K, W)$, с кортежами $(j, k, n_{jk})$. Так как большие матрицы как правило разреженные (большинство значений равно 0), и так как мы можем нулевыми значениями пренебречь (не хранить), такое реляционное представление достаточно эффективно для больших матриц. Однако, возможно, что координаты $i$, $j$, и $k$ неявно закодированы в смещение позиции элемента относительно начала файла, вместо явного хранения. Тогда, функция Map (или Reader) должна быть разработана таким образом, чтобы реконструировать компоненты $I$, $J$, и $K$ кортежей из смещения.\n",
        "\n",
        "Произведение $MN$ это фактически join, за которым следуют группировка по ключу и аггрегация. Таким образом join отношений $M(I, J, V )$ и $N(J, K, W)$, имеющих общим только атрибут $J$, создаст кортежи $(i, j, k, v, w)$ из каждого кортежа $(i, j, v) \\in M$ и кортежа $(j, k, w) \\in N$. Такой 5 компонентный кортеж представляет пару элементов матрицы $(m_{ij} , n_{jk})$. Что нам хотелось бы получить на самом деле, это произведение этих элементов, то есть, 4 компонентный кортеж$(i, j, k, v \\times w)$, так как он представляет произведение $m_{ij}n_{jk}$. Мы представляем отношение как результат одной MapReduce операции, в которой мы можем произвести группировку и аггрегацию, с $I$ и $K$  атрибутами, по которым идёт группировка, и суммой  $V \\times W$.\n",
        "\n",
        "\n",
        "\n"
      ]
    },
    {
      "cell_type": "code",
      "metadata": {
        "id": "1MBkGaLAYVCt"
      },
      "source": [
        "# MapReduce model\n",
        "def flatten(nested_iterable):\n",
        "  for iterable in nested_iterable:\n",
        "    for element in iterable:\n",
        "      yield element\n",
        "\n",
        "def groupbykey(iterable):\n",
        "  t = {}\n",
        "  for (k2, v2) in iterable:\n",
        "    t[k2] = t.get(k2, []) + [v2]\n",
        "  return t.items()\n",
        "\n",
        "def MapReduce(RECORDREADER, MAP, REDUCE):\n",
        "  return flatten(map(lambda x: REDUCE(*x), groupbykey(flatten(map(lambda x: MAP(*x), RECORDREADER())))))"
      ],
      "execution_count": null,
      "outputs": []
    },
    {
      "cell_type": "markdown",
      "metadata": {
        "id": "sMspsOT0ZB35"
      },
      "source": [
        "Реализуйте перемножение матриц с использованием модельного кода MapReduce для одной машины в случае, когда одна матрица хранится в памяти, а другая генерируется RECORDREADER-ом."
      ]
    },
    {
      "cell_type": "code",
      "metadata": {
        "id": "psP1XekbsEjS",
        "colab": {
          "base_uri": "https://localhost:8080/"
        },
        "outputId": "5067b255-acc2-4566-b084-b0168b052a52"
      },
      "source": [
        "import numpy as np\n",
        "\n",
        "I = 2\n",
        "J = 3\n",
        "K = 4 * 10\n",
        "small_mat = np.random.rand(I, J)  # Локальная маленькая матрица\n",
        "big_mat = np.random.rand(J, K)  # Большая матрица загружается через RECORDREADER\n",
        "\n",
        "def RECORDREADER():\n",
        "    \"\"\"Генератор, читающий элементы большой матрицы.\"\"\"\n",
        "    for row in range(big_mat.shape[0]):\n",
        "        for col in range(big_mat.shape[1]):\n",
        "            yield ((row, col), big_mat[row, col])  # (j, k) - ключ, значение - n_{jk}\n",
        "\n",
        "def MAP(matrix_key, matrix_value):\n",
        "    \"\"\"Функция отображения: умножает элементы большой и малой матриц.\"\"\"\n",
        "    j, k = matrix_key  # Извлекаем индексы (j, k)\n",
        "    w = matrix_value  # Значение n_{jk}\n",
        "\n",
        "    for i in range(small_mat.shape[0]):  # Перебираем строки маленькой матрицы\n",
        "        v = small_mat[i, j]  # m_{ij}\n",
        "        yield ((i, k), v * w)  # (i, k) - ключ, произведение - значение\n",
        "\n",
        "def REDUCE(key, values):\n",
        "    \"\"\"Функция редукции: суммирует произведения.\"\"\"\n",
        "    i, k = key\n",
        "    yield ((i, k), sum(values))  # Суммируем все произведения\n",
        "\n",
        "# Запуск MapReduce\n",
        "result = list(MapReduce(RECORDREADER, MAP, REDUCE))\n",
        "print(result)\n"
      ],
      "execution_count": null,
      "outputs": [
        {
          "output_type": "stream",
          "name": "stdout",
          "text": [
            "[((0, 0), 0.43318022300822406), ((1, 0), 0.12936896741899817), ((0, 1), 0.6368790759580222), ((1, 1), 0.12961509468777277), ((0, 2), 0.48827827582613037), ((1, 2), 0.22934425502424108), ((0, 3), 0.9912708151961365), ((1, 3), 0.15511517635238548), ((0, 4), 1.1925001732797136), ((1, 4), 0.3070126480167729), ((0, 5), 0.5706120500089981), ((1, 5), 0.3285832885495022), ((0, 6), 0.4795549429577198), ((1, 6), 0.26928961627042025), ((0, 7), 0.4065123617927222), ((1, 7), 0.2152060009203097), ((0, 8), 0.9865530655079179), ((1, 8), 0.21875659131878233), ((0, 9), 1.333560483502779), ((1, 9), 0.35367490821388825), ((0, 10), 0.911203623151595), ((1, 10), 0.2851289607281267), ((0, 11), 0.7092137161797603), ((1, 11), 0.24034882702968002), ((0, 12), 0.6353086316019294), ((1, 12), 0.15317423432232255), ((0, 13), 1.2225109117898931), ((1, 13), 0.3744081520982908), ((0, 14), 0.7948894734505001), ((1, 14), 0.24132881310913698), ((0, 15), 1.0720635847457383), ((1, 15), 0.202170705995142), ((0, 16), 0.8127227837444473), ((1, 16), 0.20001220454321067), ((0, 17), 0.9840699943226132), ((1, 17), 0.2650267687114184), ((0, 18), 0.2768534951137325), ((1, 18), 0.2283640598467301), ((0, 19), 0.7885502644002489), ((1, 19), 0.3184755210993354), ((0, 20), 0.9701692589938982), ((1, 20), 0.32430061451059955), ((0, 21), 1.205505791720152), ((1, 21), 0.1873088413154892), ((0, 22), 1.1157148597906683), ((1, 22), 0.27148871463964314), ((0, 23), 1.1715977313805555), ((1, 23), 0.30682857018811105), ((0, 24), 0.48488333315273835), ((1, 24), 0.10024851783618861), ((0, 25), 1.3943996224169362), ((1, 25), 0.26703376679189383), ((0, 26), 0.8759338064042221), ((1, 26), 0.28827928358995625), ((0, 27), 0.6562769802453119), ((1, 27), 0.14208131273585917), ((0, 28), 1.09927942592645), ((1, 28), 0.2683506176562847), ((0, 29), 1.1170351683332798), ((1, 29), 0.2294308545232765), ((0, 30), 0.9296295195914043), ((1, 30), 0.1464596320905867), ((0, 31), 1.222582846890893), ((1, 31), 0.24525737949017076), ((0, 32), 0.8838714997375272), ((1, 32), 0.3378741567553061), ((0, 33), 0.7510108731800547), ((1, 33), 0.2834599566883905), ((0, 34), 0.6793199529030792), ((1, 34), 0.34695708593259494), ((0, 35), 0.4110362500585696), ((1, 35), 0.16799951308023345), ((0, 36), 0.9688028730817182), ((1, 36), 0.14903831643519308), ((0, 37), 0.26102686718813484), ((1, 37), 0.1600483830737583), ((0, 38), 1.0571492035924819), ((1, 38), 0.2899152099334696), ((0, 39), 0.9864066411693502), ((1, 39), 0.35931113984170293)]\n"
          ]
        }
      ]
    },
    {
      "cell_type": "markdown",
      "metadata": {
        "id": "rnt306LHhHrm"
      },
      "source": [
        "Проверьте своё решение"
      ]
    },
    {
      "cell_type": "code",
      "metadata": {
        "id": "Ewy_ZNYqW5a2",
        "colab": {
          "base_uri": "https://localhost:8080/"
        },
        "outputId": "39c4e657-4291-4aaf-eba5-1c723cb375a2"
      },
      "source": [
        "# CHECK THE SOLUTION\n",
        "reference_solution = np.matmul(small_mat, big_mat)\n",
        "solution = MapReduce(RECORDREADER, MAP, REDUCE)\n",
        "\n",
        "def asmatrix(reduce_output):\n",
        "  reduce_output = list(reduce_output)\n",
        "  I = max(i for ((i,k), vw) in reduce_output)+1\n",
        "  K = max(k for ((i,k), vw) in reduce_output)+1\n",
        "  mat = np.empty(shape=(I,K))\n",
        "  for ((i,k), vw) in reduce_output:\n",
        "    mat[i,k] = vw\n",
        "  return mat\n",
        "\n",
        "np.allclose(reference_solution, asmatrix(solution)) # should return true"
      ],
      "execution_count": null,
      "outputs": [
        {
          "output_type": "execute_result",
          "data": {
            "text/plain": [
              "True"
            ]
          },
          "metadata": {},
          "execution_count": 96
        }
      ]
    },
    {
      "cell_type": "code",
      "metadata": {
        "id": "TK7v4CEcfxqf",
        "colab": {
          "base_uri": "https://localhost:8080/"
        },
        "outputId": "2062538a-ccff-4f3d-b2aa-84ee81e8c369"
      },
      "source": [
        "reduce_output = list(MapReduce(RECORDREADER, MAP, REDUCE))\n",
        "max(i for ((i,k), vw) in reduce_output)"
      ],
      "execution_count": null,
      "outputs": [
        {
          "output_type": "execute_result",
          "data": {
            "text/plain": [
              "1"
            ]
          },
          "metadata": {},
          "execution_count": 97
        }
      ]
    },
    {
      "cell_type": "markdown",
      "metadata": {
        "id": "i4yyg3kOZqJJ"
      },
      "source": [
        "Реализуйте перемножение матриц  с использованием модельного кода MapReduce для одной машины в случае, когда обе матрицы генерируются в RECORDREADER. Например, сначала одна, а потом другая."
      ]
    },
    {
      "cell_type": "code",
      "metadata": {
        "id": "3B7rIAJCaHZq",
        "outputId": "a69b5e04-e1f7-45dd-d762-2201502a5756",
        "colab": {
          "base_uri": "https://localhost:8080/"
        }
      },
      "source": [
        "import numpy as np  # Импорт библиотеки NumPy для работы с матрицами\n",
        "\n",
        "# Размерности матриц\n",
        "I = 2\n",
        "J = 3\n",
        "K = 40\n",
        "\n",
        "# Генерация случайных матриц\n",
        "np.random.seed(42)  # Фиксируем seed для воспроизводимости результатов\n",
        "small_mat = np.random.rand(I, J)  # Матрица M размером (I x J)\n",
        "big_mat = np.random.rand(J, K)  # Матрица N размером (J x K)\n",
        "\n",
        "# Эталонное решение с использованием стандартного перемножения матриц\n",
        "reference_solution = np.matmul(small_mat, big_mat)\n",
        "\n",
        "# Функция, читающая данные обеих матриц\n",
        "def RECORDREADER():\n",
        "    \"\"\"Чтение данных из матриц M и N.\"\"\"\n",
        "    for row in range(small_mat.shape[0]):\n",
        "        for col in range(small_mat.shape[1]):\n",
        "            yield ((0, row, col), small_mat[row, col])  # (0, i, j, M[i, j])\n",
        "\n",
        "    for row in range(big_mat.shape[0]):\n",
        "        for col in range(big_mat.shape[1]):\n",
        "            yield ((1, row, col), big_mat[row, col])  # (1, j, k, N[j, k])\n",
        "\n",
        "# Функция MAP для соединения матриц по j\n",
        "def MAP_JOIN(key, value):\n",
        "    \"\"\"Разбивает элементы по индексу j для соединения.\"\"\"\n",
        "    mat_type, first_idx, second_idx = key\n",
        "\n",
        "    if mat_type == 0:  # Элемент первой матрицы (M)\n",
        "        yield (second_idx, (0, first_idx, value))  # Группируем по j\n",
        "    else:  # Элемент второй матрицы (N)\n",
        "        yield (first_idx, (1, second_idx, value))  # Группируем по j\n",
        "\n",
        "# Функция REDUCE для соединения матриц по j\n",
        "def REDUCE_JOIN(key, values):\n",
        "    \"\"\"Соединяет элементы M и N по общему индексу j.\"\"\"\n",
        "    matrix_m = [v for v in values if v[0] == 0]\n",
        "    matrix_n = [v for v in values if v[0] == 1]\n",
        "\n",
        "    for m in matrix_m:\n",
        "        for n in matrix_n:\n",
        "            yield ((m[1], n[1]), m[2] * n[2])  # Умножение mij * njk\n",
        "\n",
        "# Функция MAP для финальной агрегации\n",
        "def MAP_MUL(key, value):\n",
        "    \"\"\"Передаёт (i, k) без изменений для суммирования.\"\"\"\n",
        "    yield (key, value)\n",
        "\n",
        "# Функция REDUCE для суммирования произведений\n",
        "def REDUCE_MUL(key, values):\n",
        "    \"\"\"Суммирует все элементы с одинаковым (i, k).\"\"\"\n",
        "    yield (key, sum(values))\n",
        "\n",
        "# Генерация объединённых значений через MapReduce\n",
        "joined_data = MapReduce(RECORDREADER, MAP_JOIN, REDUCE_JOIN)\n",
        "\n",
        "# Финальная агрегация через MapReduce\n",
        "final_solution = MapReduce(lambda: joined_data, MAP_MUL, REDUCE_MUL)\n",
        "\n",
        "# Проверка результата\n",
        "print(np.allclose(reference_solution, asmatrix(final_solution)))  # Должно вывести True\n"
      ],
      "execution_count": null,
      "outputs": [
        {
          "output_type": "stream",
          "name": "stdout",
          "text": [
            "True\n"
          ]
        }
      ]
    },
    {
      "cell_type": "markdown",
      "metadata": {
        "id": "mXyzQi1DaIwo"
      },
      "source": [
        "Реализуйте перемножение матриц с использованием модельного кода MapReduce Distributed, когда каждая матрица генерируется в своём RECORDREADER."
      ]
    },
    {
      "cell_type": "code",
      "metadata": {
        "id": "TDM_s78Rb5eR",
        "colab": {
          "base_uri": "https://localhost:8080/"
        },
        "outputId": "f5673e39-e09f-4496-b3ee-520b102e5517"
      },
      "source": [
        "import numpy as np\n",
        "\n",
        "NUM_MAPPERS = 2\n",
        "reducers = 2\n",
        "ROWS_A = 2\n",
        "COLS_A = 3\n",
        "COLS_B = 40  # K = 4 * 10\n",
        "\n",
        "# Генерация данных\n",
        "A = np.random.rand(ROWS_A, COLS_A)\n",
        "B = np.random.rand(COLS_A, COLS_B)\n",
        "\n",
        "def generate_chunks():\n",
        "    \"\"\"Создаёт части матриц для обработки в MAP.\"\"\"\n",
        "    chunk_size = int(np.ceil(ROWS_A / NUM_MAPPERS))\n",
        "    for start_row in range(0, ROWS_A, chunk_size):\n",
        "        yield process_chunk(range(start_row, min(start_row + chunk_size, ROWS_A)))\n",
        "\n",
        "def process_chunk(rows):\n",
        "    \"\"\"Генерирует пары (координаты, значение) из двух матриц.\"\"\"\n",
        "    for row in rows:\n",
        "        for j in range(COLS_A):\n",
        "            for k in range(COLS_B):\n",
        "                yield ((row, j), A[row, j]), ((j, k), B[j, k])\n",
        "\n",
        "def map_function(pair_A, pair_B):\n",
        "    \"\"\"Умножает элементы и группирует по (i, k).\"\"\"\n",
        "    (i, j), val_A = pair_A\n",
        "    (j, k), val_B = pair_B\n",
        "    yield (i, k), val_A * val_B\n",
        "\n",
        "def reduce_function(index, values):\n",
        "    \"\"\"Суммирует элементы с одинаковыми индексами.\"\"\"\n",
        "    yield index, sum(values)\n",
        "\n",
        "# Запуск MapReduce\n",
        "intermediate_results = MapReduceDistributed(generate_chunks, map_function, reduce_function)\n",
        "\n",
        "# Объединение результатов\n",
        "final_result = {}\n",
        "for partition_id, partition in intermediate_results:\n",
        "    for index, value in partition:\n",
        "        final_result[index] = final_result.get(index, 0) + value\n",
        "\n",
        "# Вывод результата\n",
        "print(\"Matrix Multiplication Result:\\n\", final_result)"
      ],
      "execution_count": null,
      "outputs": [
        {
          "output_type": "stream",
          "name": "stdout",
          "text": [
            "240 key-value pairs were sent over a network.\n",
            "Matrix Multiplication Result:\n",
            " {(0, 1): 0.12634114780702735, (0, 2): 0.6231596035822661, (0, 4): 0.31992626992193046, (0, 5): 0.7167196452743758, (0, 8): 0.8645263667205226, (0, 9): 0.7079406790732525, (0, 11): 0.4417982013978739, (0, 12): 0.9132746092094527, (0, 15): 1.1099931936131264, (0, 16): 0.7121236542625545, (0, 18): 0.8135579635140162, (0, 19): 0.7074136322589276, (0, 22): 0.9973701871044655, (0, 23): 0.6231839325446358, (0, 25): 0.2611867756493786, (0, 26): 0.9543847101615036, (0, 29): 0.8091828807129231, (0, 32): 0.15585659657155868, (0, 33): 0.2750549892667597, (0, 36): 0.13479107093216589, (0, 39): 0.41064227503426964, (1, 0): 1.2305717857497247, (1, 1): 0.20210192217505918, (1, 3): 1.3782438691025052, (1, 4): 0.7046707690054199, (1, 7): 1.7546595031481922, (1, 10): 1.2053240214115748, (1, 11): 0.8526303644312438, (1, 14): 0.9649895755918299, (1, 17): 1.377927441342666, (1, 18): 0.8457876768695144, (1, 21): 1.077911621832383, (1, 24): 1.1461296544850124, (1, 25): 0.6941562597570788, (1, 27): 0.979537365313057, (1, 28): 1.4472240298324452, (1, 31): 0.6091687860615443, (1, 32): 0.42037259206957833, (1, 34): 0.5372346785441505, (1, 35): 0.7846096260520881, (1, 38): 1.8176352831881455, (1, 39): 0.7951000457081051, (0, 0): 0.7629766901588448, (0, 3): 1.0913191447937707, (0, 6): 1.0444223795296843, (0, 7): 1.0441464581044155, (0, 10): 0.6214822262039327, (0, 13): 0.8595505876825, (0, 14): 0.8576750484838346, (0, 17): 0.7563138586910788, (0, 20): 0.8064102988046864, (0, 21): 0.8541745039989029, (0, 24): 0.6065740417029813, (0, 27): 0.32988915430756305, (0, 28): 0.734889374057798, (0, 30): 0.4100514379492798, (0, 31): 0.5931474941532675, (0, 34): 0.7207145132891873, (0, 35): 0.45912213164708365, (0, 37): 0.5114722994881173, (0, 38): 1.0696842705541978, (1, 2): 0.7329981878557026, (1, 5): 1.187313325492317, (1, 6): 1.4456274718943032, (1, 8): 1.3134803851855181, (1, 9): 0.7250142095211918, (1, 12): 1.2117963321282126, (1, 13): 1.1206619268652167, (1, 15): 1.5230886179834922, (1, 16): 1.1164408250599867, (1, 19): 0.9318483010096529, (1, 20): 1.19173359157984, (1, 22): 1.2798950969925984, (1, 23): 1.3049162825570717, (1, 26): 1.8711763631638525, (1, 29): 1.5049615379521488, (1, 30): 0.6886335963495187, (1, 33): 0.742939706639788, (1, 36): 0.16336246731918713, (1, 37): 0.5509307123432722}\n"
          ]
        }
      ]
    },
    {
      "cell_type": "markdown",
      "metadata": {
        "id": "ZuSA2P9Db6UM"
      },
      "source": [
        "Обобщите предыдущее решение на случай, когда каждая матрица генерируется несколькими RECORDREADER-ами, и проверьте его работоспособность. Будет ли работать решение, если RECORDREADER-ы будут генерировать случайное подмножество элементов матрицы?"
      ]
    },
    {
      "cell_type": "code",
      "metadata": {
        "id": "ehN0FqRDcwU5",
        "colab": {
          "base_uri": "https://localhost:8080/"
        },
        "outputId": "3934999e-45b5-4d89-e09a-a8d11d9554ab"
      },
      "source": [
        "import numpy as np\n",
        "\n",
        "# Определение размеров матриц\n",
        "ROWS_A = 2\n",
        "COLS_A = 3\n",
        "COLS_B = 40  # K = 4 * 10\n",
        "\n",
        "# Генерация случайных матриц\n",
        "matrix_a = np.random.rand(ROWS_A, COLS_A)\n",
        "matrix_b = np.random.rand(COLS_A, COLS_B)\n",
        "\n",
        "# Получение эталонного результата через умножение матриц\n",
        "expected_result = np.matmul(matrix_a, matrix_b)\n",
        "\n",
        "# Функция для \"разглаживания\" вложенных итерируемых объектов\n",
        "def flatten_iterables(nested_iterable):\n",
        "    for iterable in nested_iterable:\n",
        "        for element in iterable:\n",
        "            yield element\n",
        "\n",
        "# Функция для группировки элементов по ключу\n",
        "def group_elements_by_key(iterable):\n",
        "    grouped = {}\n",
        "    for (key, value) in iterable:\n",
        "        grouped[key] = grouped.get(key, []) + [value]\n",
        "    return grouped.items()\n",
        "\n",
        "# Функция для распределенной группировки элементов по ключу\n",
        "def distributed_grouping(map_partitions, partition_func):\n",
        "    partitions = [dict() for _ in range(num_reducers)]\n",
        "    for map_partition in map_partitions:\n",
        "        for (key, value) in map_partition:\n",
        "            partition = partitions[partition_func(key)]\n",
        "            partition[key] = partition.get(key, []) + [value]\n",
        "    return [(partition_id, sorted(partition.items(), key=lambda x: x[0])) for (partition_id, partition) in enumerate(partitions)]\n",
        "\n",
        "# Функция для выполнения MapReduce на распределенных данных\n",
        "def distributed_map_reduce(input_format, map_func, reduce_func, partition_func=partition_function, combiner=None):\n",
        "    map_partitions = map(lambda record_reader: flatten_iterables(map(lambda kv: map_func(*kv), record_reader)), input_format())\n",
        "\n",
        "    if combiner is not None:\n",
        "        map_partitions = map(lambda map_partition: flatten_iterables(map(lambda kv: combiner(*kv), group_elements_by_key(map_partition))), map_partitions)\n",
        "\n",
        "    reduce_partitions = distributed_grouping(map_partitions, partition_func)\n",
        "\n",
        "    reduce_outputs = map(lambda reduce_partition: (reduce_partition[0], flatten_iterables(map(lambda reduce_input_group: reduce_func(*reduce_input_group), reduce_partition[1]))), reduce_partitions)\n",
        "\n",
        "    return reduce_outputs\n",
        "\n",
        "# Функция для преобразования результата REDUCE в матрицу\n",
        "def convert_to_matrix(reduce_output):\n",
        "    reduce_output = list(reduce_output)\n",
        "    rows = max(i for ((i, k), value) in reduce_output) + 1\n",
        "    cols = max(k for ((i, k), value) in reduce_output) + 1\n",
        "    result_matrix = np.empty(shape=(rows, cols))\n",
        "    for ((i, k), value) in reduce_output:\n",
        "        result_matrix[i, k] = value\n",
        "    return result_matrix\n",
        "\n",
        "# Генератор для вводных данных\n",
        "def input_data_format():\n",
        "    data_a = []\n",
        "\n",
        "    for i in range(matrix_a.shape[0]):\n",
        "        for j in range(matrix_a.shape[1]):\n",
        "            data_a.append(((0, i, j), matrix_a[i, j]))  # первая матрица\n",
        "\n",
        "    split_size = int(np.ceil(len(data_a) / num_maps))\n",
        "\n",
        "    for i in range(0, len(data_a), split_size):\n",
        "        yield data_a[i:i + split_size]\n",
        "\n",
        "    data_b = []\n",
        "\n",
        "    for j in range(matrix_b.shape[0]):\n",
        "        for k in range(matrix_b.shape[1]):\n",
        "            data_b.append(((1, j, k), matrix_b[j, k]))  # вторая матрица\n",
        "\n",
        "    split_size = int(np.ceil(len(data_b) / num_maps))\n",
        "\n",
        "    for i in range(0, len(data_b), split_size):\n",
        "        yield data_b[i:i + split_size]\n",
        "\n",
        "# MAP функция для соединения матриц\n",
        "def map_join_func(key1, value1):\n",
        "    (matrix_id, i, j) = key1\n",
        "    weight = value1\n",
        "\n",
        "    if matrix_id == 0:\n",
        "        yield (j, (matrix_id, i, weight))\n",
        "    else:\n",
        "        yield (i, (matrix_id, j, weight))\n",
        "\n",
        "# REDUCE функция для соединения матриц\n",
        "def reduce_join_func(key, values):\n",
        "    from_first_matrix = [v for v in values if v[0] == 0]\n",
        "    from_second_matrix = [v for v in values if v[0] == 1]\n",
        "\n",
        "    for f in from_first_matrix:\n",
        "        for s in from_second_matrix:\n",
        "            yield ((f[1], s[1]), f[2] * s[2])\n",
        "\n",
        "# Генератор для получения соединенных данных\n",
        "def generate_joined_data():\n",
        "    for j in joined_data:\n",
        "        yield j[1]\n",
        "\n",
        "# MAP функция для передачи значений\n",
        "def map_multiplication(key1, value1):\n",
        "    yield (key1, value1)\n",
        "\n",
        "# REDUCE функция для суммирования значений\n",
        "def reduce_multiplication(key, values):\n",
        "    total_value = 0\n",
        "\n",
        "    for v in values:\n",
        "        total_value += v\n",
        "    yield (key, total_value)\n",
        "\n",
        "num_maps = 3\n",
        "num_reducers = 2\n",
        "\n",
        "# Выполнение MapReduce для соединения матриц\n",
        "partitioned_result = distributed_map_reduce(input_data_format, map_join_func, reduce_join_func, combiner=None)\n",
        "joined_data = [(partition_id, list(partition)) for (partition_id, partition) in partitioned_result]\n",
        "\n",
        "# Выполнение MapReduce для умножения значений\n",
        "multiplication_output = distributed_map_reduce(generate_joined_data, map_multiplication, reduce_multiplication, combiner=None)\n",
        "pre_result = [(partition_id, list(partition)) for (partition_id, partition) in multiplication_output]\n",
        "\n",
        "# Формирование окончательного результата\n",
        "final_solution = []\n",
        "\n",
        "for p in pre_result:\n",
        "    for v in p[1]:\n",
        "        final_solution.append(v)\n",
        "\n",
        "# Проверка на соответствие с эталонным решением\n",
        "is_close = np.allclose(expected_result, convert_to_matrix(final_solution))\n",
        "\n",
        "# Вывод части матрицы\n",
        "result_matrix = convert_to_matrix(final_solution)\n",
        "print(\"Результат умножения матриц (части первой и последней строки):\")\n",
        "print(result_matrix[0])  # Первая строка\n",
        "print(result_matrix[-1])  # Последняя строка\n",
        "print(\"Сравнение с эталонным решением:\", is_close)"
      ],
      "execution_count": null,
      "outputs": [
        {
          "output_type": "stream",
          "name": "stdout",
          "text": [
            "Результат умножения матриц (части первой и последней строки):\n",
            "[0.72861036 0.85359375 0.38791687 0.49736044 0.73668029 0.80395639\n",
            " 0.84847434 0.66530507 0.4823447  0.76616757 0.36363536 1.07297752\n",
            " 0.72837889 0.64649339 0.92515603 0.6992917  0.18227584 1.095403\n",
            " 0.57071291 0.85174611 0.55880715 1.10284716 0.60027177 0.25437013\n",
            " 0.95576085 0.20308306 0.53295606 1.00446229 0.92658526 0.7447367\n",
            " 0.60074588 0.54584729 0.31097864 0.40896665 0.67875363 0.76281016\n",
            " 0.76033967 0.88944985 0.32113609 0.66327698]\n",
            "[1.39263197 1.23437573 0.72490578 1.44411535 0.93988577 1.48098103\n",
            " 0.79072055 1.61747426 0.68589427 1.38650929 0.75339182 1.96066156\n",
            " 0.70860626 1.30179072 1.81788162 1.03588552 0.677488   1.85988206\n",
            " 0.98627011 1.35960101 1.24691438 2.01045047 0.93118752 0.72792015\n",
            " 1.70141853 0.89730155 1.11108472 1.55729684 1.17252895 1.13465165\n",
            " 0.9170437  0.93233839 0.72357354 0.59196353 1.35898432 1.4643093\n",
            " 1.2380572  1.42888204 0.80436809 1.42546897]\n",
            "Сравнение с эталонным решением: True\n"
          ]
        }
      ]
    }
  ]
}